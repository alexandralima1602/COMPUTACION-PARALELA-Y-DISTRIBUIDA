{
 "cells": [
  {
   "cell_type": "markdown",
   "metadata": {},
   "source": [
    "## Ejercicio 3: Simulación de tareas de larga duración\n",
    "Utilizando el ejemplo de lazy_printer, crea un simulador para tareas de larga duración que afecten la respuesta del servidor basado en la complejidad de la tarea.\n",
    "\n",
    "Pasos:\n",
    "\n",
    "- Define varias corutinas que simulen diferentes tiempos y complejidades de tareas (por ejemplo, \n",
    "- cálculos matemáticos complejos o procesamiento de texto).\n",
    "- Utiliza asyncio.wait para manejar estas tareas de forma concurrente en el cliente y envía estas tareas al servidor.\n",
    "- Añade lógica en el servidor para responder a estas tareas con diferentes tiempos de espera basados en su complejidad."
   ]
  },
  {
   "cell_type": "markdown",
   "metadata": {},
   "source": [
    "## cliente"
   ]
  },
  {
   "cell_type": "code",
   "execution_count": 3,
   "metadata": {},
   "outputs": [
    {
     "name": "stdout",
     "output_type": "stream",
     "text": [
      "Enviada tarea al servidor. job_id: 1\n"
     ]
    }
   ],
   "source": [
    "import dill as pickle\n",
    "import socket\n",
    "import random\n",
    "from time import sleep\n",
    "\n",
    "def submit_job(conn, data):\n",
    "    conn.send(b'\\x00')  \n",
    "    data_bytes = pickle.dumps(data)\n",
    "    conn.send(len(data_bytes).to_bytes(4, 'little'))\n",
    "    conn.send(data_bytes)\n",
    "    job_id = int.from_bytes(conn.recv(4), 'little')\n",
    "    print(f'Enviada tarea al servidor. job_id: {job_id}')\n",
    "    return job_id\n",
    "\n",
    "def get_result(conn, job_id):\n",
    "    conn.send(b'\\x01')\n",
    "    conn.send(job_id.to_bytes(4, 'little'))\n",
    "    result_size = int.from_bytes(conn.recv(4), 'little')\n",
    "    result = pickle.loads(conn.recv(result_size))\n",
    "    print(f'El resultado es: {result}')\n",
    "\n",
    "if __name__ == '__main__':\n",
    "    conn = socket.create_connection(('127.0.0.1', 1936))\n",
    "    \n",
    "    job_ids = []\n",
    "    for _ in range(5):\n",
    "        numbers = [random.randint(1, 10) for _ in range(random.randint(1, 10))]\n",
    "        job_id = submit_job(conn, numbers)\n",
    "        job_ids.append(job_id)\n",
    "    \n",
    "    for job_id in job_ids:\n",
    "        get_result(conn, job_id)\n",
    "    \n",
    "    conn.close()\n",
    "\n"
   ]
  }
 ],
 "metadata": {
  "kernelspec": {
   "display_name": "Python 3",
   "language": "python",
   "name": "python3"
  },
  "language_info": {
   "codemirror_mode": {
    "name": "ipython",
    "version": 3
   },
   "file_extension": ".py",
   "mimetype": "text/x-python",
   "name": "python",
   "nbconvert_exporter": "python",
   "pygments_lexer": "ipython3",
   "version": "3.12.3"
  }
 },
 "nbformat": 4,
 "nbformat_minor": 2
}
