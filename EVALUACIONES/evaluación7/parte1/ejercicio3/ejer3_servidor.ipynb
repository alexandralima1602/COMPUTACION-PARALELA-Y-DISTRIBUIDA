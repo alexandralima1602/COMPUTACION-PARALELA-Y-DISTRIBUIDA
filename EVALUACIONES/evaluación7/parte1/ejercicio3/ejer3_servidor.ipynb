{
 "cells": [
  {
   "cell_type": "markdown",
   "metadata": {},
   "source": [
    "## Ejercicio 3: Simulación de tareas de larga duración\n",
    "Utilizando el ejemplo de lazy_printer, crea un simulador para tareas de larga duración que afecten la respuesta del servidor basado en la complejidad de la tarea.\n",
    "\n",
    "Pasos:\n",
    "\n",
    "- Define varias corutinas que simulen diferentes tiempos y complejidades de tareas (por ejemplo, \n",
    "- cálculos matemáticos complejos o procesamiento de texto).\n",
    "- Utiliza asyncio.wait para manejar estas tareas de forma concurrente en el cliente y envía estas tareas al servidor.\n",
    "- Añade lógica en el servidor para responder a estas tareas con diferentes tiempos de espera basados en su complejidad."
   ]
  },
  {
   "cell_type": "markdown",
   "metadata": {},
   "source": [
    "## servidor"
   ]
  },
  {
   "cell_type": "code",
   "execution_count": 1,
   "metadata": {},
   "outputs": [
    {
     "name": "stdout",
     "output_type": "stream",
     "text": [
      "Procesando tarea de complejidad 1 (duración: 0.50 segundos)\n"
     ]
    }
   ],
   "source": [
    "import asyncio\n",
    "import pickle\n",
    "import nest_asyncio\n",
    "import random\n",
    "import time\n",
    "\n",
    "nest_asyncio.apply()\n",
    "\n",
    "# Diccionario para almacenar el estado de cada cliente\n",
    "client_states = {}\n",
    "\n",
    "async def handle_submit_job(reader, writer):\n",
    "    client_id = id(writer)\n",
    "    job_id = client_states.get(client_id, [0])[-1] + 1\n",
    "    client_states[client_id] = client_states.get(client_id, []) + [job_id]\n",
    "    writer.write(job_id.to_bytes(4, 'little'))\n",
    "    await writer.drain()\n",
    "    data_length = int.from_bytes(await reader.read(4), 'little')\n",
    "    data = pickle.loads(await reader.read(data_length))\n",
    "    \n",
    "    # Simular tarea de larga duración\n",
    "    complexity = random.randint(1, 5)\n",
    "    sleep_time = complexity * 0.5\n",
    "    print(f\"Procesando tarea de complejidad {complexity} (duración: {sleep_time:.2f} segundos)\")\n",
    "    await asyncio.sleep(sleep_time)\n",
    "    result = sum(data)\n",
    "    client_states[client_id][-1] = result\n",
    "\n",
    "async def handle_get_results(reader, writer):\n",
    "    client_id = id(writer)\n",
    "    job_id = int.from_bytes(await reader.read(4), 'little')\n",
    "    result = client_states[client_id][job_id - 1]\n",
    "    result_data = pickle.dumps(result)\n",
    "    writer.write(len(result_data).to_bytes(4, 'little'))\n",
    "    writer.write(result_data)\n",
    "    await writer.drain()\n",
    "\n",
    "async def accept_requests(reader, writer):\n",
    "    try:\n",
    "        op = await reader.read(1)\n",
    "        if op:\n",
    "            if op[0] == 0:\n",
    "                await handle_submit_job(reader, writer)\n",
    "            elif op[0] == 1:\n",
    "                await handle_get_results(reader, writer)\n",
    "    except (IndexError, asyncio.IncompleteReadError, pickle.UnpicklingError) as e:\n",
    "        print(f\"Error en accept_requests: {e}\")\n",
    "        writer.close()\n",
    "        await writer.wait_closed()\n",
    "\n",
    "async def main():\n",
    "    server = await asyncio.start_server(accept_requests, '127.0.0.1', 1936)\n",
    "    async with server:\n",
    "        await server.serve_forever()\n",
    "\n",
    "asyncio.run(main())\n"
   ]
  }
 ],
 "metadata": {
  "kernelspec": {
   "display_name": "Python 3",
   "language": "python",
   "name": "python3"
  },
  "language_info": {
   "codemirror_mode": {
    "name": "ipython",
    "version": 3
   },
   "file_extension": ".py",
   "mimetype": "text/x-python",
   "name": "python",
   "nbconvert_exporter": "python",
   "pygments_lexer": "ipython3",
   "version": "3.12.3"
  }
 },
 "nbformat": 4,
 "nbformat_minor": 2
}
