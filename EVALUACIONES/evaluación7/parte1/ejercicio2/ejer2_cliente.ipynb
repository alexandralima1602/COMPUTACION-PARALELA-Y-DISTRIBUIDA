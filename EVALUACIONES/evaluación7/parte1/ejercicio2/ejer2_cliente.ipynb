{
 "cells": [
  {
   "cell_type": "markdown",
   "metadata": {},
   "source": [
    "## Ejercicio 2: Manejo de múltiples clientes\n",
    "Modifica el servidor basado en asyncio para que pueda manejar múltiples clientes simultáneamente. Cada cliente debería ser capaz de enviar múltiples solicitudes sin esperar que las anteriores se completen.\n",
    "\n",
    "Pasos:\n",
    "\n",
    "- Modifica el código del servidor para que pueda manejar distintas solicitudes de múltiples clientes de forma asíncrona.\n",
    "- Asegúrate de que el servidor pueda gestionar y mantener el estado de cada cliente por separado.\n",
    "- Prueba la capacidad del servidor conectando varios clientes al mismo tiempo y realizando diferentes solicitudes."
   ]
  },
  {
   "cell_type": "markdown",
   "metadata": {},
   "source": [
    "##cliente"
   ]
  },
  {
   "cell_type": "code",
   "execution_count": 2,
   "metadata": {},
   "outputs": [
    {
     "name": "stdout",
     "output_type": "stream",
     "text": [
      "Enviada lista de números al servidor. job_id: 1\n"
     ]
    }
   ],
   "source": [
    "import dill as pickle\n",
    "import socket\n",
    "from time import sleep\n",
    "\n",
    "def numero_list(conn, numbers):\n",
    "    conn.send(b'\\x00')  \n",
    "    numbers_data = pickle.dumps(numbers)\n",
    "    conn.send(len(numbers_data).to_bytes(4, 'little'))\n",
    "    conn.send(numbers_data)\n",
    "    job_id = int.from_bytes(conn.recv(4), 'little')\n",
    "    print(f'Enviada lista de números al servidor. job_id: {job_id}')\n",
    "    return job_id\n",
    "\n",
    "def resultado(conn, job_id):\n",
    "    conn.send(b'\\x01')\n",
    "    conn.send(job_id.to_bytes(4, 'little'))\n",
    "    result_size = int.from_bytes(conn.recv(4), 'little')\n",
    "    result = pickle.loads(conn.recv(result_size))\n",
    "    print(f'El resultado de la suma es: {result}')\n",
    "\n",
    "if __name__ == '__main__':\n",
    "    conn = socket.create_connection(('127.0.0.1', 1936))\n",
    "    job_ids = [numero_list(conn, [1, 2, 3]), numero_list(conn, [4, 5, 6]), numero_list(conn, [7, 8, 9])]\n",
    "    for job_id in job_ids:\n",
    "        resultado(conn, job_id)\n",
    "    conn.close()\n"
   ]
  }
 ],
 "metadata": {
  "kernelspec": {
   "display_name": "Python 3",
   "language": "python",
   "name": "python3"
  },
  "language_info": {
   "codemirror_mode": {
    "name": "ipython",
    "version": 3
   },
   "file_extension": ".py",
   "mimetype": "text/x-python",
   "name": "python",
   "nbconvert_exporter": "python",
   "pygments_lexer": "ipython3",
   "version": "3.12.3"
  }
 },
 "nbformat": 4,
 "nbformat_minor": 2
}
