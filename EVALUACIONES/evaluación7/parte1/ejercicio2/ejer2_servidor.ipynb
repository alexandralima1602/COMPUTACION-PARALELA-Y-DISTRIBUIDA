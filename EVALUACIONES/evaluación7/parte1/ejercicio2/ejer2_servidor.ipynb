{
 "cells": [
  {
   "cell_type": "markdown",
   "metadata": {},
   "source": [
    "## Ejercicio 2: Manejo de múltiples clientes\n",
    "Modifica el servidor basado en asyncio para que pueda manejar múltiples clientes simultáneamente. Cada cliente debería ser capaz de enviar múltiples solicitudes sin esperar que las anteriores se completen.\n",
    "\n",
    "Pasos:\n",
    "\n",
    "Modifica el código del servidor para que pueda manejar distintas solicitudes de múltiples clientes de forma asíncrona.\n",
    "Asegúrate de que el servidor pueda gestionar y mantener el estado de cada cliente por separado.\n",
    "Prueba la capacidad del servidor conectando varios clientes al mismo tiempo y realizando diferentes solicitudes."
   ]
  },
  {
   "cell_type": "markdown",
   "metadata": {},
   "source": [
    "##servidor"
   ]
  },
  {
   "cell_type": "code",
   "execution_count": 1,
   "metadata": {},
   "outputs": [],
   "source": [
    "import asyncio\n",
    "import pickle\n",
    "import nest_asyncio\n",
    "nest_asyncio.apply()\n",
    "\n",
    "# Diccionario para almacenar el estado de cada cliente\n",
    "client_states = {}\n",
    "\n",
    "async def handle_submit_job(reader, writer):\n",
    "    client_id = id(writer)\n",
    "    job_id = client_states.get(client_id, [0])[-1] + 1\n",
    "    client_states[client_id] = client_states.get(client_id, []) + [job_id]\n",
    "    writer.write(job_id.to_bytes(4, 'little'))\n",
    "    await writer.drain()\n",
    "    data_length = int.from_bytes(await reader.read(4), 'little')\n",
    "    data = pickle.loads(await reader.read(data_length))\n",
    "    result = sum(data)\n",
    "    client_states[client_id][-1] = result\n",
    "\n",
    "async def handle_get_results(reader, writer):\n",
    "    client_id = id(writer)\n",
    "    job_id = int.from_bytes(await reader.read(4), 'little')\n",
    "    result = client_states[client_id][job_id - 1]\n",
    "    result_data = pickle.dumps(result)\n",
    "    writer.write(len(result_data).to_bytes(4, 'little'))\n",
    "    writer.write(result_data)\n",
    "    await writer.drain()\n",
    "\n",
    "async def accept_requests(reader, writer):\n",
    "    op = await reader.read(1)\n",
    "    if op[0] == 0:\n",
    "        await handle_submit_job(reader, writer)\n",
    "    elif op[0] == 1:\n",
    "        await handle_get_results(reader, writer)\n",
    "\n",
    "async def main():\n",
    "    server = await asyncio.start_server(accept_requests, '127.0.0.1', 1936)\n",
    "    async with server:\n",
    "        await server.serve_forever()\n",
    "\n",
    "asyncio.run(main())\n"
   ]
  }
 ],
 "metadata": {
  "kernelspec": {
   "display_name": "Python 3",
   "language": "python",
   "name": "python3"
  },
  "language_info": {
   "codemirror_mode": {
    "name": "ipython",
    "version": 3
   },
   "file_extension": ".py",
   "mimetype": "text/x-python",
   "name": "python",
   "nbconvert_exporter": "python",
   "pygments_lexer": "ipython3",
   "version": "3.12.3"
  }
 },
 "nbformat": 4,
 "nbformat_minor": 2
}
