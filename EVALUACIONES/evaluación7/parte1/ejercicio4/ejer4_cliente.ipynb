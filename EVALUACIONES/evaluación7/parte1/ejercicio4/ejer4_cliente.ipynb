{
 "cells": [
  {
   "cell_type": "markdown",
   "metadata": {},
   "source": [
    "## Ejercicio 4: Mejorando la eficiencia con paralelismo\n",
    "Investiga cómo asyncio puede integrarse con bibliotecas de procesamiento en paralelo como concurrent.futures para mejorar la eficiencia del servidor al manejar tareas que son intensivas en CPU.\n",
    "\n",
    "Pasos:\n",
    "\n",
    "- Modifica el servidor para utilizar concurrent.futures.ProcessPoolExecutor para ejecutar cálculos intensivos en paralelo.\n",
    "- Crea tareas que requieran intensivo uso de CPU y envíalas al servidor.\n",
    "- Observa y compara el rendimiento cuando se usan corutinas simples versus la ejecución en paralelo."
   ]
  },
  {
   "cell_type": "markdown",
   "metadata": {},
   "source": [
    "##cliente"
   ]
  },
  {
   "cell_type": "code",
   "execution_count": null,
   "metadata": {},
   "outputs": [],
   "source": [
    "import dill as pickle\n",
    "import socket\n",
    "import random\n",
    "from time import sleep\n",
    "\n",
    "def submit_job(conn, data):\n",
    "    conn.send(b'\\x00')  \n",
    "    data_bytes = pickle.dumps(data)\n",
    "    conn.send(len(data_bytes).to_bytes(4, 'little'))\n",
    "    conn.send(data_bytes)\n",
    "    job_id = int.from_bytes(conn.recv(4), 'little')\n",
    "    print(f'Enviada tarea al servidor. job_id: {job_id}')\n",
    "    return job_id\n",
    "\n",
    "def get_result(conn, job_id):\n",
    "    conn.send(b'\\x01')\n",
    "    conn.send(job_id.to_bytes(4, 'little'))\n",
    "    result_size = int.from_bytes(conn.recv(4), 'little')\n",
    "    result = pickle.loads(conn.recv(result_size))\n",
    "    print(f'El resultado es: {result}')\n",
    "\n",
    "if __name__ == '__main__':\n",
    "    conn = socket.create_connection(('127.0.0.1', 1936))\n",
    "    \n",
    "    job_ids = []\n",
    "    for _ in range(10):\n",
    "        numbers = [random.randint(1, 100) for _ in range(random.randint(10, 50))]\n",
    "        job_id = submit_job(conn, numbers)\n",
    "        job_ids.append(job_id)\n",
    "    \n",
    "    for job_id in job_ids:\n",
    "        get_result(conn, job_id)\n",
    "    \n",
    "    conn.close()\n"
   ]
  }
 ],
 "metadata": {
  "kernelspec": {
   "display_name": "Python 3",
   "language": "python",
   "name": "python3"
  },
  "language_info": {
   "codemirror_mode": {
    "name": "ipython",
    "version": 3
   },
   "file_extension": ".py",
   "mimetype": "text/x-python",
   "name": "python",
   "nbconvert_exporter": "python",
   "pygments_lexer": "ipython3",
   "version": "3.12.3"
  }
 },
 "nbformat": 4,
 "nbformat_minor": 2
}
