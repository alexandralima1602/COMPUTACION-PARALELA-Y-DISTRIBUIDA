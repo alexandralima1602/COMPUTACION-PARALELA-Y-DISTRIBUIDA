{
 "cells": [
  {
   "cell_type": "markdown",
   "metadata": {},
   "source": [
    "## Ejercicio 4: Mejorando la eficiencia con paralelismo\n",
    "Investiga cómo asyncio puede integrarse con bibliotecas de procesamiento en paralelo como concurrent.futures para mejorar la eficiencia del servidor al manejar tareas que son intensivas en CPU.\n",
    "\n",
    "Pasos:\n",
    "\n",
    "- Modifica el servidor para utilizar concurrent.futures.ProcessPoolExecutor para ejecutar cálculos intensivos en paralelo.\n",
    "- Crea tareas que requieran intensivo uso de CPU y envíalas al servidor.\n",
    "- Observa y compara el rendimiento cuando se usan corutinas simples versus la ejecución en paralelo."
   ]
  },
  {
   "cell_type": "markdown",
   "metadata": {},
   "source": [
    "##servidor"
   ]
  },
  {
   "cell_type": "code",
   "execution_count": 1,
   "metadata": {},
   "outputs": [],
   "source": [
    "import asyncio\n",
    "import pickle\n",
    "import nest_asyncio\n",
    "import random\n",
    "from concurrent.futures import ProcessPoolExecutor\n",
    "\n",
    "nest_asyncio.apply()\n",
    "\n",
    "# Diccionario para almacenar el estado de cada cliente\n",
    "client_states = {}\n",
    "\n",
    "# Crear un pool de procesos para ejecutar tareas en paralelo\n",
    "executor = ProcessPoolExecutor()\n",
    "\n",
    "async def handle_submit_job(reader, writer):\n",
    "    client_id = id(writer)\n",
    "    job_id = client_states.get(client_id, [0])[-1] + 1\n",
    "    client_states[client_id] = client_states.get(client_id, []) + [job_id]\n",
    "    writer.write(job_id.to_bytes(4, 'little'))\n",
    "    await writer.drain()\n",
    "    data_length = int.from_bytes(await reader.read(4), 'little')\n",
    "    data = pickle.loads(await reader.read(data_length))\n",
    "    \n",
    "    # Ejecutar tarea en paralelo usando el pool de procesos\n",
    "    result = await asyncio.get_running_loop().run_in_executor(executor, _process_data, data)\n",
    "    client_states[client_id][-1] = result\n",
    "\n",
    "def _process_data(data):\n",
    "    # Simular una tarea intensiva en CPU\n",
    "    complexity = random.randint(1, 5)\n",
    "    time.sleep(complexity * 0.5)\n",
    "    return sum(data)\n",
    "\n",
    "async def handle_get_results(reader, writer):\n",
    "    client_id = id(writer)\n",
    "    job_id = int.from_bytes(await reader.read(4), 'little')\n",
    "    result = client_states[client_id][job_id - 1]\n",
    "    result_data = pickle.dumps(result)\n",
    "    writer.write(len(result_data).to_bytes(4, 'little'))\n",
    "    writer.write(result_data)\n",
    "    await writer.drain()\n",
    "\n",
    "async def accept_requests(reader, writer):\n",
    "    op = await reader.read(1)\n",
    "    if op[0] == 0:\n",
    "        await handle_submit_job(reader, writer)\n",
    "    elif op[0] == 1:\n",
    "        await handle_get_results(reader, writer)\n",
    "\n",
    "async def main():\n",
    "    server = await asyncio.start_server(accept_requests, '127.0.0.1', 1936)\n",
    "    async with server:\n",
    "        await server.serve_forever()\n",
    "\n",
    "asyncio.run(main())\n"
   ]
  }
 ],
 "metadata": {
  "kernelspec": {
   "display_name": "Python 3",
   "language": "python",
   "name": "python3"
  },
  "language_info": {
   "codemirror_mode": {
    "name": "ipython",
    "version": 3
   },
   "file_extension": ".py",
   "mimetype": "text/x-python",
   "name": "python",
   "nbconvert_exporter": "python",
   "pygments_lexer": "ipython3",
   "version": "3.12.3"
  }
 },
 "nbformat": 4,
 "nbformat_minor": 2
}
