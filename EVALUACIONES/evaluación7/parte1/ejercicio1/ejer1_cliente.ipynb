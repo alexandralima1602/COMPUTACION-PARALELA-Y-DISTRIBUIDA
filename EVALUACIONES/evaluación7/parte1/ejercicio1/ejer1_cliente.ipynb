{
 "cells": [
  {
   "cell_type": "markdown",
   "metadata": {},
   "source": [
    "Ejercicio 1: Extendiendo la funcionalidad del servidor"
   ]
  },
  {
   "cell_type": "markdown",
   "metadata": {},
   "source": [
    "Código del Cliente"
   ]
  },
  {
   "cell_type": "code",
   "execution_count": 7,
   "metadata": {},
   "outputs": [
    {
     "name": "stdout",
     "output_type": "stream",
     "text": [
      "Enviada lista de números al servidor. job_id: 1\n",
      "El resultado de la suma es: 15\n"
     ]
    }
   ],
   "source": [
    "import dill as pickle\n",
    "import socket\n",
    "from time import sleep\n",
    "\n",
    "def numero_list(numbers):\n",
    "    conn = None\n",
    "    try:\n",
    "        conn = socket.create_connection(('127.0.0.1', 1936))\n",
    "        conn.send(b'\\x00')  \n",
    "        numbers_data = pickle.dumps(numbers)\n",
    "        conn.send(len(numbers_data).to_bytes(4, 'little'))\n",
    "        conn.send(numbers_data)\n",
    "        job_id = int.from_bytes(conn.recv(4), 'little')\n",
    "        print(f'Enviada lista de números al servidor. job_id: {job_id}')\n",
    "        return job_id\n",
    "    finally:\n",
    "        if conn:\n",
    "            conn.close()\n",
    "\n",
    "def resultado(job_id):\n",
    "    result = None\n",
    "    while result is None:\n",
    "        try:\n",
    "            conn = socket.create_connection(('127.0.0.1', 1936))\n",
    "            conn.send(b'\\x01')\n",
    "            conn.send(job_id.to_bytes(4, 'little'))\n",
    "            result_size = int.from_bytes(conn.recv(4), 'little')\n",
    "            result = pickle.loads(conn.recv(result_size))\n",
    "        finally:\n",
    "            if conn:\n",
    "                conn.close()\n",
    "        sleep(1)\n",
    "    print(f'El resultado de la suma es: {result}')\n",
    "\n",
    "if __name__ == '__main__':\n",
    "    numbers = [1, 2, 3, 4, 5]  \n",
    "    job_id = numero_list(numbers)\n",
    "    if job_id:\n",
    "        resultado(job_id)\n"
   ]
  }
 ],
 "metadata": {
  "kernelspec": {
   "display_name": "Python 3",
   "language": "python",
   "name": "python3"
  },
  "language_info": {
   "codemirror_mode": {
    "name": "ipython",
    "version": 3
   },
   "file_extension": ".py",
   "mimetype": "text/x-python",
   "name": "python",
   "nbconvert_exporter": "python",
   "pygments_lexer": "ipython3",
   "version": "3.12.3"
  }
 },
 "nbformat": 4,
 "nbformat_minor": 2
}
