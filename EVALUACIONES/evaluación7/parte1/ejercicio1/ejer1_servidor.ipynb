{
 "cells": [
  {
   "cell_type": "markdown",
   "metadata": {},
   "source": [
    "Ejercicio 1: Extendiendo la funcionalidad del servidor"
   ]
  },
  {
   "cell_type": "markdown",
   "metadata": {},
   "source": [
    "Código del servidor"
   ]
  },
  {
   "cell_type": "code",
   "execution_count": null,
   "metadata": {},
   "outputs": [],
   "source": [
    "import asyncio\n",
    "import pickle\n",
    "import nest_asyncio\n",
    "nest_asyncio.apply()\n",
    "\n",
    "results = {}\n",
    "\n",
    "async def submit_job(reader, writer):\n",
    "    job_id = max(list(results.keys()) + [0]) + 1\n",
    "    writer.write(job_id.to_bytes(4, 'little'))\n",
    "    await writer.drain()\n",
    "    data_length = int.from_bytes(await reader.read(4), 'little')\n",
    "    data = pickle.loads(await reader.read(data_length))\n",
    "    results[job_id] = sum(data)\n",
    "\n",
    "async def get_results(reader, writer):\n",
    "    job_id = int.from_bytes(await reader.read(4), 'little')\n",
    "    result = results.get(job_id)\n",
    "    if result is not None:\n",
    "        result_data = pickle.dumps(result)\n",
    "        writer.write(len(result_data).to_bytes(4, 'little'))\n",
    "        writer.write(result_data)\n",
    "    else:\n",
    "        writer.write((0).to_bytes(4, 'little'))\n",
    "    await writer.drain()\n",
    "\n",
    "async def accept_requests(reader, writer):\n",
    "    op = await reader.read(1)\n",
    "    if op[0] == 0:  # Recibir lista de números y calcular suma\n",
    "        await submit_job(reader, writer)\n",
    "    elif op[0] == 1:  # Recibir resultado\n",
    "        await get_results(reader, writer)\n",
    "\n",
    "async def main():\n",
    "    server = await asyncio.start_server(accept_requests, '127.0.0.1', 1936)\n",
    "    async with server:\n",
    "        await server.serve_forever()\n",
    "\n",
    "asyncio.run(main())"
   ]
  }
 ],
 "metadata": {
  "language_info": {
   "name": "python"
  }
 },
 "nbformat": 4,
 "nbformat_minor": 2
}
