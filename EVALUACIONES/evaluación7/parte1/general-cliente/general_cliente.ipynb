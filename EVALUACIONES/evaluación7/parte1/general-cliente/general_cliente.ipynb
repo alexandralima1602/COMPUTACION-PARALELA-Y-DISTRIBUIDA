{
 "cells": [
  {
   "cell_type": "code",
   "execution_count": 3,
   "metadata": {},
   "outputs": [
    {
     "name": "stdout",
     "output_type": "stream",
     "text": [
      "Obteniendo datos desde job_id 1\n",
      "El resultado es 3\n"
     ]
    }
   ],
   "source": [
    "# Cliente\n",
    "import dill as pickle\n",
    "import socket\n",
    "from time import sleep\n",
    "\n",
    "def my_funs():\n",
    "    def mapper(v):\n",
    "        return v, 1\n",
    "\n",
    "    def reducer(my_args):\n",
    "        v, obs = my_args\n",
    "        return v, sum(obs)\n",
    "    return mapper, reducer\n",
    "\n",
    "def do_request(my_funs, data):\n",
    "    conn = None\n",
    "    try:\n",
    "        conn = socket.create_connection(('127.0.0.1', 1936))\n",
    "        conn.send(b'\\x00')\n",
    "        my_code = pickle.dumps(my_funs.__code__)\n",
    "        conn.send(len(my_code).to_bytes(4, 'little', signed=False))\n",
    "        conn.send(my_code)\n",
    "        my_data = pickle.dumps(data)\n",
    "        conn.send(len(my_data).to_bytes(4, 'little'))\n",
    "        conn.send(my_data)\n",
    "        job_id = int.from_bytes(conn.recv(4), 'little')\n",
    "        print(f'Obteniendo datos desde job_id {job_id}')\n",
    "    finally:\n",
    "        if conn:\n",
    "            conn.close()\n",
    "\n",
    "    result = None\n",
    "    while result is None:\n",
    "        try:\n",
    "            conn = socket.create_connection(('127.0.0.1', 1936))\n",
    "            conn.send(b'\\x01')\n",
    "            conn.send(job_id.to_bytes(4, 'little'))\n",
    "            result_size = int.from_bytes(conn.recv(4), 'little')\n",
    "            result = pickle.loads(conn.recv(result_size))\n",
    "        finally:\n",
    "            if conn:\n",
    "                conn.close()\n",
    "        sleep(1)\n",
    "    print(f'El resultado es {result}')\n",
    "\n",
    "if __name__ == '__main__':\n",
    "    do_request(my_funs, 'Python rocks. Python es lo maximo'.split(' '))\n"
   ]
  }
 ],
 "metadata": {
  "kernelspec": {
   "display_name": "Python 3",
   "language": "python",
   "name": "python3"
  },
  "language_info": {
   "codemirror_mode": {
    "name": "ipython",
    "version": 3
   },
   "file_extension": ".py",
   "mimetype": "text/x-python",
   "name": "python",
   "nbconvert_exporter": "python",
   "pygments_lexer": "ipython3",
   "version": "3.12.3"
  }
 },
 "nbformat": 4,
 "nbformat_minor": 2
}
