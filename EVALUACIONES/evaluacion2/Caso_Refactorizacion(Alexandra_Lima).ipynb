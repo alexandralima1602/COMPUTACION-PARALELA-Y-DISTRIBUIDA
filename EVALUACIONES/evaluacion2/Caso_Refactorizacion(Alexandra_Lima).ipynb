{
  "cells": [
    {
      "cell_type": "markdown",
      "metadata": {
        "id": "ns2THSRAVoH-"
      },
      "source": [
        "### Refactorización con pruebas en Python\n",
        "\n",
        "\n",
        "Esta actividad contiene un ejemplo paso a paso de una sesión de refactorización guiada por pruebas. Cuando se trata de código no probado o heredado, la refactorización es peligrosa y las pruebas pueden ayudarnos a hacerlo de la manera correcta, minimizando la cantidad de errores que introducimos y posiblemente evitándolos por completo.\n",
        "\n",
        "La refactorización no es fácil. Se requiere un doble esfuerzo para comprender el código que otros escribieron, o que escribimos en el pasado, y mover partes de él, simplificarlo, en una palabra, mejorarlo, no es algo para los pusilánimes. Al igual que la programación, la refactorización tiene sus reglas y mejores prácticas, pero puede describirse como una mezcla de técnica, intuición, experiencia y riesgo.\n"
      ]
    },
    {
      "cell_type": "code",
      "execution_count": 104,
      "metadata": {
        "colab": {
          "base_uri": "https://localhost:8080/"
        },
        "id": "vyKxC5j4Vr74",
        "outputId": "b5f1cf11-ffe2-4877-91f0-dc1db0569107"
      },
      "outputs": [
        {
          "output_type": "execute_result",
          "data": {
            "text/plain": [
              "{'edad': 20, 'apodo': 'kapumota', 'nombre': 'Checha', 'salario': '$943'}"
            ]
          },
          "metadata": {},
          "execution_count": 104
        }
      ],
      "source": [
        "{\n",
        "    \"edad\": 20,\n",
        "    \"apodo\": \"kapumota\",\n",
        "    \"nombre\": \"Checha\",\n",
        "    \"salario\": \"$943\"\n",
        "}"
      ]
    },
    {
      "cell_type": "markdown",
      "metadata": {
        "id": "KR_oA6MTV9jU"
      },
      "source": [
        "Una vez que convertimos esto a una estructura de datos de Python, obtenemos una lista de diccionarios, donde 'edad' es un número entero y los campos restantes son cadenas.\n",
        "\n",
        "Luego, alguien escribió una clase que calcula algunas estadísticas sobre los datos de entrada. Esta clase, llamada DataStats, proporciona un solo método stats(), cuyas entradas son los datos devueltos por el servicio (en formato JSON) y dos números enteros llamados `iedad` e `isalario`. Esos, de acuerdo con la breve documentación de la clase, son la edad inicial y el salario inicial utilizados para calcular el aumento anual promedio del salario en todo el conjunto de datos.\n",
        "\n",
        "\n",
        "El codigo es el siguiente:\n"
      ]
    },
    {
      "cell_type": "code",
      "execution_count": 105,
      "metadata": {
        "colab": {
          "base_uri": "https://localhost:8080/"
        },
        "id": "HwV3CRARV5o1",
        "outputId": "80b107ce-e9c1-4082-e865-c7da21d31a6e"
      },
      "outputs": [
        {
          "output_type": "stream",
          "name": "stdout",
          "text": [
            "Overwriting datastats.py\n"
          ]
        }
      ],
      "source": [
        "%%writefile datastats.py\n",
        "\n",
        "import math\n",
        "import json\n",
        "\n",
        "\n",
        "class DataStats:\n",
        "  def stats(self, data, iedad, isalario):\n",
        "    incremento_edad_promedio = math.floor(sum([e['edad'] for e in data])/len(data)) - iedad\n",
        "    incremento_salario_promedio = math.floor( sum([int(e['salario'][1:]) for e in data])/len(data)) - isalario\n",
        "\n",
        "    incremento_anual_promedio = math.floor(incremento_salario_promedio/incremento_edad_promedio)\n",
        "\n",
        "    salarios = [int(e['salario'][1:]) for e in data]\n",
        "    limite = '$' + str(max(salarios))\n",
        "\n",
        "    max_salario = [e for e in data if e['salario'] == limite]\n",
        "\n",
        "    salarios = [int(d['salario'][1:]) for d in data]\n",
        "    min_salario = [e for e in data if e['salario'] ==\n",
        "                      '${}'.format(str(min(salarios)))]\n",
        "\n",
        "    return json.dumps({\n",
        "        'edad_promedio': math.floor(sum([e['edad'] for e in data])/len(data)),\n",
        "        'salario_promedio': math.floor(sum( [int(e['salario'][1:]) for e in data])/len(data)),\n",
        "        'incremento_anual_promedio': incremento_anual_promedio,\n",
        "        'max_salario': max_salario,\n",
        "        'min_salario': min_salario\n",
        "        })"
      ]
    },
    {
      "cell_type": "markdown",
      "metadata": {
        "id": "0Er9amd1MAK_"
      },
      "source": [
        "### La meta\n",
        "\n",
        "Es bastante fácil, incluso para el ojo inexperto, detectar algunos problemas en la clase anterior. Una lista de los más llamativos es\n",
        "\n",
        "- La clase expone un solo método y no tiene __init__(), por lo que una sola función podría proporcionar la misma funcionalidad.\n",
        "\n",
        "- El método stats() es demasiado grande y realiza demasiadas tareas. Esto hace que la depuración sea muy difícil, ya que hay una sola pieza de código inextricable que hace todo.\n",
        "\n",
        " - Hay mucha duplicación de código, o al menos varias líneas que son muy similares. En particular, las dos operaciones '£' + str(max(salaries)) y './s{}'.format(str(min(salaries))), las dos líneas diferentes que comienzan con salario =, y las varias comprensiones de listas.\n",
        "\n",
        "Entonces, dado que vamos a usar este código en alguna parte, posiblemente queremos solucionar estos problemas.\n",
        "\n",
        "La clase, sin embargo, está funcionando perfectamente. Se ha utilizado en producción durante muchos años y no hay errores conocidos, por lo que nuestra operación debe ser una refactorización, lo que significa que queremos escribir algo mejor, conservando el comportamiento del objeto anterior.\n",
        "\n",
        "### El camino\n",
        "\n",
        "Aquí, quiero mostrarles cómo puede refactorizar de manera segura dicha clase usando pruebas. Esto es diferente del TDD, pero los dos están estrechamente relacionados. La clase que tenemos no se ha creado usando TDD, ya que no hay pruebas, pero podemos usar pruebas para garantizar que se conserve su comportamiento. Por lo tanto, esto debería llamarse `refactorización impulsada por pruebas` (TDR).\n",
        "\n",
        "La idea detrás de TDR es bastante simple. Primero, tenemos que escribir una prueba que verifique el comportamiento de algún código, posiblemente una pequeña parte con un alcance y salida claramente definidos. Esta es una prueba unitaria póstuma (o tardía), y simula lo que el autor del código debería haber proporcionado.\n",
        "\n",
        "\n",
        "Una vez que tengas tu prueba unitaria puedes ir y modificar el código, sabiendo que el comportamiento del objeto resultante será el mismo que el anterior. Como puede comprender fácilmente, la efectividad de esta metodología depende en gran medida de la calidad de las pruebas en sí, posiblemente más que cuando se desarrolla con TDD, y es por eso que la refactorización es difícil.\n",
        "\n",
        "https://refactoring.guru/design-patterns/decorator\n"
      ]
    },
    {
      "cell_type": "markdown",
      "metadata": {
        "id": "WOu6va8sWjUG"
      },
      "source": [
        "**Pregunta:** ¿Puedes encontrar algunos problemas de la clase anterior?"
      ]
    },
    {
      "cell_type": "markdown",
      "source": [
        "# Tus respuestas\n",
        "Si encuentro algunos problemas de la clase anterior como:\n",
        "- La clase expone un solo método stats pero no tiene un método __init__ para inicializar el objeto.\n",
        "- stats realiza demasiadas tareas diferentes, como calcular estadísticas y formatear los resultados.\n",
        "- La falta de pruebas unitarias por que eso dificulta su comportamiento como tambien detectar sus posibles errores"
      ],
      "metadata": {
        "id": "Ls5_LE9BONrx"
      }
    },
    {
      "cell_type": "code",
      "execution_count": 106,
      "metadata": {
        "id": "pW_0FyxhWa1k"
      },
      "outputs": [],
      "source": [
        "class DataStats:\n",
        "    # Falta de encapsulación y cohesión\n",
        "    # La clase no tiene un método __init__ para inicializar el objeto\n",
        "    # Esto puede hacer que sea confuso para los usuarios de la clase entender cómo usarla correctamente\n",
        "    def stats(self, data, iedad, isalario):\n",
        "        # Método stats demasiado grande\n",
        "        # Realiza demasiadas tareas diferentes, violando el principio de responsabilidad única\n",
        "        # Hace que el código sea difícil de mantener y entender\n",
        "        incremento_edad_promedio = math.floor(sum([e['edad'] for e in data])/len(data)) - iedad\n",
        "        incremento_salario_promedio = math.floor(sum([int(e['salario'][1:]) for e in data])/len(data)) - isalario\n",
        "        incremento_anual_promedio = math.floor(incremento_salario_promedio/incremento_edad_promedio)\n",
        "        salarios = [int(e['salario'][1:]) for e in data]\n",
        "        limite = '$' + str(max(salarios))\n",
        "        max_salario = [e for e in data if e['salario'] == limite]\n",
        "        salarios = [int(d['salario'][1:]) for d in data]\n",
        "        min_salario = [e for e in data if e['salario'] == '${}'.format(str(min(salarios)))]\n",
        "        return json.dumps({\n",
        "            'edad_promedio': math.floor(sum([e['edad'] for e in data])/len(data)),\n",
        "            'salario_promedio': math.floor(sum([int(e['salario'][1:]) for e in data])/len(data)),\n",
        "            'incremento_anual_promedio': incremento_anual_promedio,\n",
        "            'max_salario': max_salario,\n",
        "            'min_salario': min_salario\n",
        "        })\n",
        "    # Duplicación de código\n",
        "    # Varias instancias de código duplicado, como las líneas que calculan el salario máximo y mínimo\n",
        "    # Y la conversión de salario a entero\n",
        "\n",
        "    # Falta de pruebas unitarias\n",
        "    # La clase no tiene pruebas unitarias, lo que dificulta verificar su comportamiento y detectar posibles errores\n"
      ]
    },
    {
      "cell_type": "markdown",
      "metadata": {
        "id": "zaln0c-7bvmq"
      },
      "source": [
        "#### 1 Prueba de los endpoints"
      ]
    },
    {
      "cell_type": "markdown",
      "metadata": {
        "id": "lCKJcvmvXXpm"
      },
      "source": [
        "Sean los siguientes datos:"
      ]
    },
    {
      "cell_type": "code",
      "execution_count": 107,
      "metadata": {
        "id": "2qeo7s8wW6HC"
      },
      "outputs": [],
      "source": [
        "test_data = [\n",
        "    {\n",
        "        \"id\": 1,\n",
        "        \"nombre\": \"Irene\",\n",
        "        \"apodo\": \"Lara\",\n",
        "        \"edad\": 68,\n",
        "        \"salario\": \"$27888\"\n",
        "    },\n",
        "    {\n",
        "        \"id\": 2,\n",
        "        \"nombre\": \"Claudio\",\n",
        "        \"apodo\": \"Avila\",\n",
        "        \"edad\": 49,\n",
        "        \"salario\": \"$67137\"\n",
        "    },\n",
        "    {\n",
        "        \"id\": 3,\n",
        "        \"nombre\": \"Tomo\",\n",
        "        \"apodo\": \"Frugs\",\n",
        "        \"edad\": 70,\n",
        "        \"salario\": \"$70472\"\n",
        "    }\n",
        "]"
      ]
    },
    {
      "cell_type": "markdown",
      "metadata": {
        "id": "XKGfJ2wYXj5C"
      },
      "source": [
        "**Pregunta:** Llamando al método `stats()` con esa salida, con `iedad` establecido en `20` e `isalario` establecido en `20000`. ¿Cual es el resultado JSON?."
      ]
    },
    {
      "cell_type": "code",
      "execution_count": 108,
      "metadata": {
        "id": "XjTqWGaDYLNs",
        "colab": {
          "base_uri": "https://localhost:8080/"
        },
        "outputId": "d2491d1a-54d0-4325-dc40-b5355d0f384a"
      },
      "outputs": [
        {
          "output_type": "stream",
          "name": "stdout",
          "text": [
            "{\"edad_promedio\": 62, \"salario_promedio\": 55165, \"incremento_anual_promedio\": 837, \"max_salario\": [{\"id\": 3, \"nombre\": \"Tomo\", \"apodo\": \"Frugs\", \"edad\": 70, \"salario\": \"$70472\"}], \"min_salario\": [{\"id\": 1, \"nombre\": \"Irene\", \"apodo\": \"Lara\", \"edad\": 68, \"salario\": \"$27888\"}]}\n"
          ]
        }
      ],
      "source": [
        "## Tus respuestas\n",
        "import json\n",
        "\n",
        "# Definimos la clase DataStats y su método stats()\n",
        "class DataStats:\n",
        "    def stats(self, data, iedad, isalario):\n",
        "        # Realizamos Cálculos estadísticos\n",
        "        incremento_edad_promedio = sum([e['edad'] for e in data]) // len(data) - iedad\n",
        "        incremento_salario_promedio = sum([int(e['salario'][1:]) for e in data]) // len(data) - isalario\n",
        "        incremento_anual_promedio = incremento_salario_promedio // incremento_edad_promedio\n",
        "\n",
        "        # Encontramos el salario máximo y mínimo\n",
        "\n",
        "        salarios = [int(e['salario'][1:]) for e in data]\n",
        "        limite = '$' + str(max(salarios))\n",
        "        max_salario = [e for e in data if e['salario'] == limite]\n",
        "        min_salario = [e for e in data if e['salario'] == '${}'.format(str(min(salarios)))]\n",
        "\n",
        "        # Creamos el diccionario de resultados y convertirlo a JSON\n",
        "        result = {\n",
        "            'edad_promedio': sum([e['edad'] for e in data]) // len(data),\n",
        "            'salario_promedio': sum([int(e['salario'][1:]) for e in data]) // len(data),\n",
        "            'incremento_anual_promedio': incremento_anual_promedio,\n",
        "            'max_salario': max_salario,\n",
        "            'min_salario': min_salario\n",
        "        }\n",
        "        return json.dumps(result)\n",
        "\n",
        "# Datos de prueba\n",
        "test_data = [\n",
        "    {\n",
        "        \"id\": 1,\n",
        "        \"nombre\": \"Irene\",\n",
        "        \"apodo\": \"Lara\",\n",
        "        \"edad\": 68,\n",
        "        \"salario\": \"$27888\"\n",
        "    },\n",
        "    {\n",
        "        \"id\": 2,\n",
        "        \"nombre\": \"Claudio\",\n",
        "        \"apodo\": \"Avila\",\n",
        "        \"edad\": 49,\n",
        "        \"salario\": \"$67137\"\n",
        "    },\n",
        "    {\n",
        "        \"id\": 3,\n",
        "        \"nombre\": \"Tomo\",\n",
        "        \"apodo\": \"Frugs\",\n",
        "        \"edad\": 70,\n",
        "        \"salario\": \"$70472\"\n",
        "    }\n",
        "]\n",
        "\n",
        "# Crear una instancia de DataStats\n",
        "data_stats = DataStats()\n",
        "\n",
        "# Llamar al método stats() con los parámetros dados\n",
        "resultado_json = data_stats.stats(test_data, 20, 20000)\n",
        "\n",
        "# Imprimir el resultado JSON\n",
        "print(resultado_json)\n"
      ]
    },
    {
      "cell_type": "code",
      "execution_count": 109,
      "metadata": {
        "colab": {
          "base_uri": "https://localhost:8080/"
        },
        "id": "1G8dpDRpaAEN",
        "outputId": "e0e7a752-2ea5-4faa-8016-1143acac0700"
      },
      "outputs": [
        {
          "output_type": "stream",
          "name": "stdout",
          "text": [
            "Overwriting test_datastats.py\n"
          ]
        }
      ],
      "source": [
        "%%writefile test_datastats.py\n",
        "\n",
        "import json\n",
        "\n",
        "from datastats import DataStats\n",
        "\n",
        "\n",
        "def test_json():\n",
        "    test_data = [\n",
        "    {\n",
        "        \"id\": 1,\n",
        "        \"nombre\": \"Irene\",\n",
        "        \"apodo\": \"Lara\",\n",
        "        \"edad\": 68,\n",
        "        \"salario\": \"$27888\"\n",
        "    },\n",
        "    {\n",
        "        \"id\": 2,\n",
        "        \"nombre\": \"Claudio\",\n",
        "        \"apodo\": \"Avila\",\n",
        "        \"edad\": 49,\n",
        "        \"salario\": \"$67137\"\n",
        "    },\n",
        "    {\n",
        "        \"id\": 3,\n",
        "        \"nombre\": \"Tomo\",\n",
        "        \"apodo\": \"Frugs\",\n",
        "        \"edad\": 70,\n",
        "        \"salario\": \"$70472\"\n",
        "    }\n",
        "]\n",
        "\n",
        "    ds = DataStats()\n",
        "\n",
        "    assert ds.stats(test_data, 20, 20000) == json.dumps(\n",
        "        {\n",
        "\n",
        "        \"edad_promedio\": 62,\n",
        "        \"salario_promedio\": 55165,\n",
        "        \"incremento_anual_promedio\": 837,\n",
        "        \"max_salario\": [{\n",
        "            \"id\": 3,\n",
        "            \"nombre\": \"Tomo\",\n",
        "        \"apodo\": \"Frugs\",\n",
        "        \"edad\": 70,\n",
        "        \"salario\": \"$70472\"\n",
        "    }],\n",
        "    \"min_salario\": [{\n",
        "        \"id\": 1,\n",
        "        \"nombre\": \"Irene\",\n",
        "        \"apodo\": \"Lara\",\n",
        "        \"edad\": 68,\n",
        "        \"salario\": \"$27888\"\n",
        "        }]\n",
        "    }\n",
        "\n",
        ")"
      ]
    },
    {
      "cell_type": "code",
      "execution_count": 110,
      "metadata": {
        "colab": {
          "base_uri": "https://localhost:8080/"
        },
        "id": "Xxjc4cTUc9c6",
        "outputId": "c04037f1-f7e4-444d-eae7-518c84ca398d"
      },
      "outputs": [
        {
          "output_type": "stream",
          "name": "stdout",
          "text": [
            "\u001b[1m======================================= test session starts ========================================\u001b[0m\n",
            "platform linux -- Python 3.10.12, pytest-7.4.4, pluggy-1.4.0 -- /usr/bin/python3\n",
            "cachedir: .pytest_cache\n",
            "rootdir: /content\n",
            "plugins: cov-5.0.0, anyio-3.7.1\n",
            "\u001b[1mcollecting ... \u001b[0m\u001b[1m\rcollected 1 item                                                                                   \u001b[0m\n",
            "\n",
            "test_datastats.py::test_json \u001b[32mPASSED\u001b[0m\u001b[32m                                                          [100%]\u001b[0m\n",
            "\n",
            "\u001b[32m======================================== \u001b[32m\u001b[1m1 passed\u001b[0m\u001b[32m in 0.02s\u001b[0m\u001b[32m =========================================\u001b[0m\n"
          ]
        }
      ],
      "source": [
        "! pytest -v test_datastats.py"
      ]
    },
    {
      "cell_type": "markdown",
      "metadata": {
        "id": "Qfs4812djJGR"
      },
      "source": [
        "#### 2  Deshacerse del formato JSON\n",
        "\n",
        "\n",
        "El método devuelve su salida en formato JSON y mirando la clase es evidente que la conversión la realiza  `json.dumps()`.\n",
        "\n",
        "La estructura del código es la siguiente:"
      ]
    },
    {
      "cell_type": "code",
      "execution_count": 111,
      "metadata": {
        "id": "2r0tUah-fAj_"
      },
      "outputs": [],
      "source": [
        "class DataStats:\n",
        "  def stats(self, data, iedad, isalario):\n",
        "    [code_parte_1]\n",
        "\n",
        "    return json.dumps({\n",
        "        [code_parte_2]\n",
        "        })"
      ]
    },
    {
      "cell_type": "markdown",
      "metadata": {
        "id": "1xHL7fyEj74w"
      },
      "source": [
        "Donde `code_parte_2` depende de `code_parte_1`. La primera refactorización entonces sigue el siguiente procedimiento:\n",
        "\n",
        "1. Escribimos una prueba llamada `test__stats()` para un método `_stats()` que se supone que devolverá los datos como una estructura de Python. Podemos inferir esto último manualmente desde JSON o ejecutando `json.loads()` desde un shell de Python. La prueba falla.\n",
        "\n",
        "2. Duplicamos el código del método `stats()` que produce los datos, colocándolo en el nuevo método `_stats()`. La prueba  debe pasar."
      ]
    },
    {
      "cell_type": "markdown",
      "metadata": {
        "id": "_XkhfEx1mK9o"
      },
      "source": [
        "3. Eliminamos el código duplicado en `stats()` reemplazándolo con una llamada a `_stats()`.\n"
      ]
    },
    {
      "cell_type": "markdown",
      "metadata": {
        "id": "EBIyJdQHnEvx"
      },
      "source": [
        "Ahora el código de la clase se ve así:\n"
      ]
    },
    {
      "cell_type": "code",
      "execution_count": 112,
      "metadata": {
        "colab": {
          "base_uri": "https://localhost:8080/"
        },
        "id": "KBtVpZ35mm6C",
        "outputId": "3c2f29a8-104c-4f03-a45b-7470e6b61fca"
      },
      "outputs": [
        {
          "output_type": "stream",
          "name": "stdout",
          "text": [
            "Overwriting datastats.py\n"
          ]
        }
      ],
      "source": [
        "%%writefile datastats.py\n",
        "import math\n",
        "import json\n",
        "\n",
        "class DataStats:\n",
        "\n",
        "  def _stats(self, data, iedad, isalario):\n",
        "\n",
        "    incremento_edad_promedio = math.floor(\n",
        "            sum([e['edad'] for e in data])/len(data)) - iedad\n",
        "    incremento_salario_promedio= math.floor(\n",
        "            sum([int(e['salario'][1:]) for e in data])/len(data)) - isalario\n",
        "\n",
        "    incremento_anual_promedio = math.floor(\n",
        "            incremento_salario_promedio/incremento_edad_promedio)\n",
        "\n",
        "    salarios = [int(e['salario'][1:]) for e in data]\n",
        "    limite= '$' + str(max(salarios))\n",
        "\n",
        "    max_salario = [e for e in data if e['salario'] == limite]\n",
        "\n",
        "    salarios = [int(d['salario'][1:]) for d in data]\n",
        "    min_salario = [e for e in data if e['salario'] ==\n",
        "                      '${}'.format(str(min(salarios)))]\n",
        "\n",
        "    return {\n",
        "            'edad_promedio': math.floor(sum([e['edad'] for e in data])/len(data)),\n",
        "            'salario_promedio': math.floor(sum(\n",
        "                [int(e['salario'][1:]) for e in data])/len(data)),\n",
        "            'incremento_anual_promedio': incremento_anual_promedio,\n",
        "            'max_salario': max_salario,\n",
        "            'min_salario': min_salario\n",
        "        }\n",
        "\n",
        "  def stats(self, data, iedad, isalario):\n",
        "    return json.dumps(\n",
        "      self._stats(data, iedad, isalario)\n",
        "  )"
      ]
    },
    {
      "cell_type": "markdown",
      "metadata": {
        "id": "j6RXt0wtosR4"
      },
      "source": [
        "Y tenemos dos pruebas que comprueban la corrección de la misma.\n"
      ]
    },
    {
      "cell_type": "code",
      "execution_count": 113,
      "metadata": {
        "colab": {
          "base_uri": "https://localhost:8080/"
        },
        "id": "iECHpaqXw5A8",
        "outputId": "afea79bd-cba0-46ad-cefd-16fa7c832da1"
      },
      "outputs": [
        {
          "output_type": "stream",
          "name": "stdout",
          "text": [
            "Overwriting test_datastats.py\n"
          ]
        }
      ],
      "source": [
        "%%writefile test_datastats.py\n",
        "\n",
        "import json\n",
        "\n",
        "from datastats import DataStats\n",
        "\n",
        "\n",
        "def test_json():\n",
        "    test_data = [\n",
        "        {\n",
        "          \"id\": 1,\n",
        "          \"nombre\": \"Irene\",\n",
        "          \"apodo\": \"Lara\",\n",
        "          \"edad\": 68,\n",
        "          \"salario\": \"$27888\"\n",
        "        },\n",
        "\n",
        "       {\n",
        "           \"id\": 2,\n",
        "          \"nombre\": \"Claudio\",\n",
        "          \"apodo\": \"Avila\",\n",
        "          \"edad\": 49,\n",
        "          \"salario\": \"$67137\"\n",
        "      },\n",
        "      {\n",
        "          \"id\": 3,\n",
        "          \"nombre\": \"Tomo\",\n",
        "          \"apodo\": \"Frugs\",\n",
        "          \"edad\": 70,\n",
        "          \"salario\": \"$70472\"\n",
        "      }\n",
        "    ]\n",
        "\n",
        "    ds = DataStats()\n",
        "\n",
        "    assert ds.stats(test_data, 20, 20000) == json.dumps(\n",
        "        {\n",
        "            \"edad_promedio\": 62,\n",
        "            \"salario_promedio\": 55165,\n",
        "            \"incremento_anual_promedio\": 837,\n",
        "            \"max_salario\": [{\n",
        "                 \"id\": 3,\n",
        "                  \"nombre\": \"Tomo\",\n",
        "                  \"apodo\": \"Frugs\",\n",
        "                  \"edad\": 70,\n",
        "                  \"salario\": \"$70472\"\n",
        "           }],\n",
        "          \"min_salario\": [{\n",
        "              \"id\": 1,\n",
        "              \"nombre\": \"Irene\",\n",
        "              \"apodo\": \"Lara\",\n",
        "              \"edad\": 68,\n",
        "              \"salario\": \"$27888\"\n",
        "            }]\n",
        "       }\n",
        "    )\n",
        "\n",
        "\n",
        "def test__stats():\n",
        "    test_data = [\n",
        "        {\n",
        "        \"id\": 1,\n",
        "        \"nombre\": \"Irene\",\n",
        "        \"apodo\": \"Lara\",\n",
        "        \"edad\": 68,\n",
        "        \"salario\": \"$27888\"\n",
        "    },\n",
        "    {\n",
        "        \"id\": 2,\n",
        "        \"nombre\": \"Claudio\",\n",
        "        \"apodo\": \"Avila\",\n",
        "        \"edad\": 49,\n",
        "        \"salario\": \"$67137\"\n",
        "    },\n",
        "    {\n",
        "        \"id\": 3,\n",
        "        \"nombre\": \"Tomo\",\n",
        "        \"apodo\": \"Frugs\",\n",
        "        \"edad\": 70,\n",
        "        \"salario\": \"$70472\"\n",
        "    }\n",
        "\n",
        "    ]\n",
        "\n",
        "    ds = DataStats()\n",
        "\n",
        "    assert ds._stats(test_data, 20, 20000) == {\n",
        "        \"edad_promedio\": 62,\n",
        "        \"salario_promedio\": 55165,\n",
        "        \"incremento_anual_promedio\": 837,\n",
        "        \"max_salario\": [{\n",
        "            \"id\": 3,\n",
        "            \"nombre\": \"Tomo\",\n",
        "            \"apodo\": \"Frugs\",\n",
        "             \"edad\": 70,\n",
        "              \"salario\": \"$70472\"\n",
        "    }],\n",
        "    \"min_salario\": [{\n",
        "        \"id\": 1,\n",
        "        \"nombre\": \"Irene\",\n",
        "        \"apodo\": \"Lara\",\n",
        "        \"edad\": 68,\n",
        "        \"salario\": \"$27888\"\n",
        "\n",
        "        }]\n",
        "    }"
      ]
    },
    {
      "cell_type": "code",
      "execution_count": 114,
      "metadata": {
        "colab": {
          "base_uri": "https://localhost:8080/"
        },
        "id": "6zcqdDKdquyS",
        "outputId": "42c2e002-af3e-4ddb-9d85-31cebcb5beb5"
      },
      "outputs": [
        {
          "output_type": "stream",
          "name": "stdout",
          "text": [
            "\u001b[1m======================================= test session starts ========================================\u001b[0m\n",
            "platform linux -- Python 3.10.12, pytest-7.4.4, pluggy-1.4.0\n",
            "rootdir: /content\n",
            "plugins: cov-5.0.0, anyio-3.7.1\n",
            "\u001b[1mcollecting ... \u001b[0m\u001b[1m\rcollected 2 items                                                                                  \u001b[0m\n",
            "\n",
            "test_datastats.py \u001b[32m.\u001b[0m\u001b[32m.\u001b[0m\u001b[32m                                                                         [100%]\u001b[0m\n",
            "\n",
            "\u001b[32m======================================== \u001b[32m\u001b[1m2 passed\u001b[0m\u001b[32m in 0.02s\u001b[0m\u001b[32m =========================================\u001b[0m\n"
          ]
        }
      ],
      "source": [
        "! pytest test_datastats.py"
      ]
    },
    {
      "cell_type": "markdown",
      "metadata": {
        "id": "2OrDQVVA2arg"
      },
      "source": [
        "#### 3 Refactorización de las pruebas\n",
        "\n",
        "\n",
        "Es claro que la lista de diccionarios `test_data` se usará en cada prueba que realicemos, por lo que ya es hora de que la traslademos a una variable global.\n",
        "También podríamos mover los datos de salida a una variable global.\n",
        "\n",
        "El conjunto de pruebas ahora parece:"
      ]
    },
    {
      "cell_type": "code",
      "execution_count": 115,
      "metadata": {
        "colab": {
          "base_uri": "https://localhost:8080/"
        },
        "id": "siN4fTHcqw5f",
        "outputId": "62b29067-c3f8-4684-b7ed-3eb19327e70c"
      },
      "outputs": [
        {
          "output_type": "stream",
          "name": "stdout",
          "text": [
            "Overwriting test_datastats.py\n"
          ]
        }
      ],
      "source": [
        "%%writefile test_datastats.py\n",
        "\n",
        "import json\n",
        "\n",
        "from datastats import DataStats\n",
        "\n",
        "\n",
        "test_data = [\n",
        "        {\n",
        "          \"id\": 1,\n",
        "          \"nombre\": \"Irene\",\n",
        "          \"apodo\": \"Lara\",\n",
        "          \"edad\": 68,\n",
        "          \"salario\": \"$27888\"\n",
        "        },\n",
        "\n",
        "       {\n",
        "           \"id\": 2,\n",
        "          \"nombre\": \"Claudio\",\n",
        "          \"apodo\": \"Avila\",\n",
        "          \"edad\": 49,\n",
        "          \"salario\": \"$67137\"\n",
        "      },\n",
        "      {\n",
        "          \"id\": 3,\n",
        "          \"nombre\": \"Tomo\",\n",
        "          \"apodo\": \"Frugs\",\n",
        "          \"edad\": 70,\n",
        "          \"salario\": \"$70472\"\n",
        "      }\n",
        "    ]\n",
        "\n",
        "def test_json():\n",
        "\n",
        "  ds = DataStats()\n",
        "\n",
        "  assert ds.stats(test_data, 20, 20000) == json.dumps(\n",
        "        {\n",
        "            \"edad_promedio\": 62,\n",
        "            \"salario_promedio\": 55165,\n",
        "            \"incremento_anual_promedio\": 837,\n",
        "            \"max_salario\": [{\n",
        "                 \"id\": 3,\n",
        "                  \"nombre\": \"Tomo\",\n",
        "                  \"apodo\": \"Frugs\",\n",
        "                  \"edad\": 70,\n",
        "                  \"salario\": \"$70472\"\n",
        "           }],\n",
        "          \"min_salario\": [{\n",
        "              \"id\": 1,\n",
        "              \"nombre\": \"Irene\",\n",
        "              \"apodo\": \"Lara\",\n",
        "              \"edad\": 68,\n",
        "              \"salario\": \"$27888\"\n",
        "            }]\n",
        "       }\n",
        "    )\n",
        "\n",
        "\n",
        "def test__stats():\n",
        "\n",
        "   ds = DataStats()\n",
        "\n",
        "   assert ds._stats(test_data, 20, 20000) == {\n",
        "        \"edad_promedio\": 62,\n",
        "        \"salario_promedio\": 55165,\n",
        "        \"incremento_anual_promedio\": 837,\n",
        "        \"max_salario\": [{\n",
        "            \"id\": 3,\n",
        "            \"nombre\": \"Tomo\",\n",
        "            \"apodo\": \"Frugs\",\n",
        "             \"edad\": 70,\n",
        "              \"salario\": \"$70472\"\n",
        "    }],\n",
        "    \"min_salario\": [{\n",
        "        \"id\": 1,\n",
        "        \"nombre\": \"Irene\",\n",
        "        \"apodo\": \"Lara\",\n",
        "        \"edad\": 68,\n",
        "        \"salario\": \"$27888\"\n",
        "\n",
        "        }]\n",
        "    }"
      ]
    },
    {
      "cell_type": "code",
      "execution_count": 116,
      "metadata": {
        "colab": {
          "base_uri": "https://localhost:8080/"
        },
        "id": "Zx0-y_Rn9Mu3",
        "outputId": "9f81adaf-a200-4664-a676-9e02fc5494ce"
      },
      "outputs": [
        {
          "output_type": "stream",
          "name": "stdout",
          "text": [
            "\u001b[1m======================================= test session starts ========================================\u001b[0m\n",
            "platform linux -- Python 3.10.12, pytest-7.4.4, pluggy-1.4.0\n",
            "rootdir: /content\n",
            "plugins: cov-5.0.0, anyio-3.7.1\n",
            "\u001b[1mcollecting ... \u001b[0m\u001b[1m\rcollected 2 items                                                                                  \u001b[0m\n",
            "\n",
            "test_datastats.py \u001b[32m.\u001b[0m\u001b[32m.\u001b[0m\u001b[32m                                                                         [100%]\u001b[0m\n",
            "\n",
            "\u001b[32m======================================== \u001b[32m\u001b[1m2 passed\u001b[0m\u001b[32m in 0.02s\u001b[0m\u001b[32m =========================================\u001b[0m\n"
          ]
        }
      ],
      "source": [
        "! pytest test_datastats.py"
      ]
    },
    {
      "cell_type": "markdown",
      "metadata": {
        "id": "Cl8PErtN9pt9"
      },
      "source": [
        "#### 4 Aislamiento del algoritmo de edad promedio\n",
        "\n",
        "Aislar características independientes es un objetivo clave del diseño de software. Por lo tanto, la refactorización tendrá como objetivo desentrañar el código dividiéndolo en pequeñas funciones separadas.\n",
        "\n",
        "\n",
        "Para aislar algún código, lo primero que debe hacer es duplicarlo, colocándolo en un método dedicado. Como estamos refactorizando con pruebas, lo primero es escribir una prueba para este método.\n"
      ]
    },
    {
      "cell_type": "code",
      "execution_count": 117,
      "metadata": {
        "colab": {
          "base_uri": "https://localhost:8080/"
        },
        "id": "hy9s7AZv97TC",
        "outputId": "c0b164e4-8f08-45ee-f675-8f3c242ac129"
      },
      "outputs": [
        {
          "output_type": "stream",
          "name": "stdout",
          "text": [
            "Overwriting datastats.py\n"
          ]
        }
      ],
      "source": [
        "%%writefile datastats.py\n",
        "import math\n",
        "import json\n",
        "\n",
        "class DataStats:\n",
        "\n",
        "  def _edad_promedio(self, data):\n",
        "    return math.floor(sum([e['edad'] for e in data])/len(data))\n",
        "\n",
        "  def _stats(self, data, iedad, isalario):\n",
        "\n",
        "    incremento_edad_promedio = math.floor(\n",
        "            sum([e['edad'] for e in data])/len(data)) - iedad\n",
        "    incremento_salario_promedio= math.floor(\n",
        "            sum([int(e['salario'][1:]) for e in data])/len(data)) - isalario\n",
        "\n",
        "    incremento_anual_promedio = math.floor(\n",
        "            incremento_salario_promedio/incremento_edad_promedio)\n",
        "\n",
        "    salarios = [int(e['salario'][1:]) for e in data]\n",
        "    limite= '$' + str(max(salarios))\n",
        "\n",
        "    max_salario = [e for e in data if e['salario'] == limite]\n",
        "\n",
        "    salarios = [int(d['salario'][1:]) for d in data]\n",
        "    min_salario = [e for e in data if e['salario'] ==\n",
        "                      '${}'.format(str(min(salarios)))]\n",
        "\n",
        "    return {\n",
        "            'edad_promedio': self._edad_promedio(data),\n",
        "            'salario_promedio': math.floor(sum(\n",
        "                [int(e['salario'][1:]) for e in data])/len(data)),\n",
        "            'incremento_anual_promedio': incremento_anual_promedio,\n",
        "            'max_salario': max_salario,\n",
        "            'min_salario': min_salario\n",
        "        }\n",
        "\n",
        "  def stats(self, data, iedad, isalario):\n",
        "    return json.dumps(\n",
        "      self._stats(data, iedad, isalario)\n",
        "  )"
      ]
    },
    {
      "cell_type": "code",
      "execution_count": 118,
      "metadata": {
        "colab": {
          "base_uri": "https://localhost:8080/"
        },
        "id": "ZH0SIpa0_4rn",
        "outputId": "e67e770e-6889-4e11-d846-2fc5711e75ff"
      },
      "outputs": [
        {
          "output_type": "stream",
          "name": "stdout",
          "text": [
            "Overwriting test_datastats.py\n"
          ]
        }
      ],
      "source": [
        "%%writefile test_datastats.py\n",
        "\n",
        "import json\n",
        "\n",
        "from datastats import DataStats\n",
        "\n",
        "\n",
        "test_data = [\n",
        "        {\n",
        "          \"id\": 1,\n",
        "          \"nombre\": \"Irene\",\n",
        "          \"apodo\": \"Lara\",\n",
        "          \"edad\": 68,\n",
        "          \"salario\": \"$27888\"\n",
        "        },\n",
        "\n",
        "       {\n",
        "           \"id\": 2,\n",
        "          \"nombre\": \"Claudio\",\n",
        "          \"apodo\": \"Avila\",\n",
        "          \"edad\": 49,\n",
        "          \"salario\": \"$67137\"\n",
        "      },\n",
        "      {\n",
        "          \"id\": 3,\n",
        "          \"nombre\": \"Tomo\",\n",
        "          \"apodo\": \"Frugs\",\n",
        "          \"edad\": 70,\n",
        "          \"salario\": \"$70472\"\n",
        "      }\n",
        "    ]\n",
        "\n",
        "def test_json():\n",
        "\n",
        "  ds = DataStats()\n",
        "\n",
        "  assert ds.stats(test_data, 20, 20000) == json.dumps(\n",
        "        {\n",
        "            \"edad_promedio\": 62,\n",
        "            \"salario_promedio\": 55165,\n",
        "            \"incremento_anual_promedio\": 837,\n",
        "            \"max_salario\": [{\n",
        "                 \"id\": 3,\n",
        "                  \"nombre\": \"Tomo\",\n",
        "                  \"apodo\": \"Frugs\",\n",
        "                  \"edad\": 70,\n",
        "                  \"salario\": \"$70472\"\n",
        "           }],\n",
        "          \"min_salario\": [{\n",
        "              \"id\": 1,\n",
        "              \"nombre\": \"Irene\",\n",
        "              \"apodo\": \"Lara\",\n",
        "              \"edad\": 68,\n",
        "              \"salario\": \"$27888\"\n",
        "            }]\n",
        "       }\n",
        "    )\n",
        "\n",
        "\n",
        "def test__stats():\n",
        "\n",
        "   ds = DataStats()\n",
        "\n",
        "   assert ds._stats(test_data, 20, 20000) == {\n",
        "        \"edad_promedio\": 62,\n",
        "        \"salario_promedio\": 55165,\n",
        "        \"incremento_anual_promedio\": 837,\n",
        "        \"max_salario\": [{\n",
        "            \"id\": 3,\n",
        "            \"nombre\": \"Tomo\",\n",
        "            \"apodo\": \"Frugs\",\n",
        "             \"edad\": 70,\n",
        "              \"salario\": \"$70472\"\n",
        "    }],\n",
        "    \"min_salario\": [{\n",
        "        \"id\": 1,\n",
        "        \"nombre\": \"Irene\",\n",
        "        \"apodo\": \"Lara\",\n",
        "        \"edad\": 68,\n",
        "        \"salario\": \"$27888\"\n",
        "\n",
        "        }]\n",
        "    }\n",
        "\n",
        "def test__edad_promedio():\n",
        "  ds = DataStats()\n",
        "\n",
        "  assert ds._edad_promedio(test_data) == 62"
      ]
    },
    {
      "cell_type": "code",
      "execution_count": 119,
      "metadata": {
        "colab": {
          "base_uri": "https://localhost:8080/"
        },
        "id": "hT42ulLpAqyE",
        "outputId": "49a15d31-bd24-4c3d-ce58-ff95a227ddf4"
      },
      "outputs": [
        {
          "output_type": "stream",
          "name": "stdout",
          "text": [
            "\u001b[1m======================================= test session starts ========================================\u001b[0m\n",
            "platform linux -- Python 3.10.12, pytest-7.4.4, pluggy-1.4.0\n",
            "rootdir: /content\n",
            "plugins: cov-5.0.0, anyio-3.7.1\n",
            "\u001b[1mcollecting ... \u001b[0m\u001b[1m\rcollected 3 items                                                                                  \u001b[0m\n",
            "\n",
            "test_datastats.py \u001b[32m.\u001b[0m\u001b[32m.\u001b[0m\u001b[32m.\u001b[0m\u001b[32m                                                                        [100%]\u001b[0m\n",
            "\n",
            "\u001b[32m======================================== \u001b[32m\u001b[1m3 passed\u001b[0m\u001b[32m in 0.02s\u001b[0m\u001b[32m =========================================\u001b[0m\n"
          ]
        }
      ],
      "source": [
        "! pytest test_datastats.py"
      ]
    },
    {
      "cell_type": "markdown",
      "metadata": {
        "id": "dSaD8llWDI1k"
      },
      "source": [
        "#### 5 Aíslamiento el algoritmo de salario promedio\n"
      ]
    },
    {
      "cell_type": "code",
      "execution_count": 120,
      "metadata": {
        "colab": {
          "base_uri": "https://localhost:8080/"
        },
        "id": "pv2DFnw4DN5T",
        "outputId": "627ea6a5-e0b2-413f-c66b-5260dc2656e1"
      },
      "outputs": [
        {
          "output_type": "stream",
          "name": "stdout",
          "text": [
            "Overwriting datastats.py\n"
          ]
        }
      ],
      "source": [
        "%%writefile datastats.py\n",
        "import math\n",
        "import json\n",
        "\n",
        "class DataStats:\n",
        "  def _salario_promedio(self, data):\n",
        "    return math.floor(sum([int(e['salario'][1:]) for e in data])/len(data))\n",
        "\n",
        "  def _edad_promedio(self, data):\n",
        "    return math.floor(sum([e['edad'] for e in data])/len(data))\n",
        "\n",
        "  def _stats(self, data, iedad, isalario):\n",
        "\n",
        "    incremento_edad_promedio = math.floor(\n",
        "            sum([e['edad'] for e in data])/len(data)) - iedad\n",
        "    incremento_salario_promedio= math.floor(\n",
        "            sum([int(e['salario'][1:]) for e in data])/len(data)) - isalario\n",
        "\n",
        "    incremento_anual_promedio = math.floor(\n",
        "            incremento_salario_promedio/incremento_edad_promedio)\n",
        "\n",
        "    salarios = [int(e['salario'][1:]) for e in data]\n",
        "    limite= '$' + str(max(salarios))\n",
        "\n",
        "    max_salario = [e for e in data if e['salario'] == limite]\n",
        "\n",
        "    salarios = [int(d['salario'][1:]) for d in data]\n",
        "    min_salario = [e for e in data if e['salario'] ==\n",
        "                      '${}'.format(str(min(salarios)))]\n",
        "\n",
        "    return {\n",
        "            'edad_promedio': self._edad_promedio(data),\n",
        "            'salario_promedio': self._salario_promedio(data),\n",
        "            'incremento_anual_promedio': incremento_anual_promedio,\n",
        "            'max_salario': max_salario,\n",
        "            'min_salario': min_salario\n",
        "        }\n",
        "\n",
        "  def stats(self, data, iedad, isalario):\n",
        "    return json.dumps(\n",
        "      self._stats(data, iedad, isalario)\n",
        "  )"
      ]
    },
    {
      "cell_type": "code",
      "execution_count": 121,
      "metadata": {
        "colab": {
          "base_uri": "https://localhost:8080/"
        },
        "id": "OyxKzZs7IUiX",
        "outputId": "c4883f65-7dd9-4200-e9a7-6ad11c808397"
      },
      "outputs": [
        {
          "output_type": "stream",
          "name": "stdout",
          "text": [
            "Overwriting test_datastats.py\n"
          ]
        }
      ],
      "source": [
        "%%writefile test_datastats.py\n",
        "\n",
        "import json\n",
        "\n",
        "from datastats import DataStats\n",
        "\n",
        "\n",
        "test_data = [\n",
        "        {\n",
        "          \"id\": 1,\n",
        "          \"nombre\": \"Irene\",\n",
        "          \"apodo\": \"Lara\",\n",
        "          \"edad\": 68,\n",
        "          \"salario\": \"$27888\"\n",
        "        },\n",
        "\n",
        "       {\n",
        "           \"id\": 2,\n",
        "          \"nombre\": \"Claudio\",\n",
        "          \"apodo\": \"Avila\",\n",
        "          \"edad\": 49,\n",
        "          \"salario\": \"$67137\"\n",
        "      },\n",
        "      {\n",
        "          \"id\": 3,\n",
        "          \"nombre\": \"Tomo\",\n",
        "          \"apodo\": \"Frugs\",\n",
        "          \"edad\": 70,\n",
        "          \"salario\": \"$70472\"\n",
        "      }\n",
        "    ]\n",
        "\n",
        "def test_json():\n",
        "\n",
        "  ds = DataStats()\n",
        "\n",
        "  assert ds.stats(test_data, 20, 20000) == json.dumps(\n",
        "        {\n",
        "            \"edad_promedio\": 62,\n",
        "            \"salario_promedio\": 55165,\n",
        "            \"incremento_anual_promedio\": 837,\n",
        "            \"max_salario\": [{\n",
        "                 \"id\": 3,\n",
        "                  \"nombre\": \"Tomo\",\n",
        "                  \"apodo\": \"Frugs\",\n",
        "                  \"edad\": 70,\n",
        "                  \"salario\": \"$70472\"\n",
        "           }],\n",
        "          \"min_salario\": [{\n",
        "              \"id\": 1,\n",
        "              \"nombre\": \"Irene\",\n",
        "              \"apodo\": \"Lara\",\n",
        "              \"edad\": 68,\n",
        "              \"salario\": \"$27888\"\n",
        "            }]\n",
        "       }\n",
        "    )\n",
        "\n",
        "\n",
        "def test__stats():\n",
        "\n",
        "   ds = DataStats()\n",
        "\n",
        "   assert ds._stats(test_data, 20, 20000) == {\n",
        "        \"edad_promedio\": 62,\n",
        "        \"salario_promedio\": 55165,\n",
        "        \"incremento_anual_promedio\": 837,\n",
        "        \"max_salario\": [{\n",
        "            \"id\": 3,\n",
        "            \"nombre\": \"Tomo\",\n",
        "            \"apodo\": \"Frugs\",\n",
        "             \"edad\": 70,\n",
        "              \"salario\": \"$70472\"\n",
        "    }],\n",
        "    \"min_salario\": [{\n",
        "        \"id\": 1,\n",
        "        \"nombre\": \"Irene\",\n",
        "        \"apodo\": \"Lara\",\n",
        "        \"edad\": 68,\n",
        "        \"salario\": \"$27888\"\n",
        "\n",
        "        }]\n",
        "    }\n",
        "\n",
        "def test__edad_promedio():\n",
        "  ds = DataStats()\n",
        "\n",
        "  assert ds._edad_promedio(test_data) == 62\n",
        "\n",
        "def test__salario_promedio():\n",
        "  ds = DataStats()\n",
        "  assert ds._salario_promedio(test_data) == 55165"
      ]
    },
    {
      "cell_type": "code",
      "execution_count": 122,
      "metadata": {
        "colab": {
          "base_uri": "https://localhost:8080/"
        },
        "id": "5CZfMBdbI554",
        "outputId": "a0b89b5a-fc6a-40b1-ef48-4ba18516e9ec"
      },
      "outputs": [
        {
          "output_type": "stream",
          "name": "stdout",
          "text": [
            "\u001b[1m======================================= test session starts ========================================\u001b[0m\n",
            "platform linux -- Python 3.10.12, pytest-7.4.4, pluggy-1.4.0\n",
            "rootdir: /content\n",
            "plugins: cov-5.0.0, anyio-3.7.1\n",
            "\u001b[1mcollecting ... \u001b[0m\u001b[1m\rcollected 4 items                                                                                  \u001b[0m\n",
            "\n",
            "test_datastats.py \u001b[32m.\u001b[0m\u001b[32m.\u001b[0m\u001b[32m.\u001b[0m\u001b[32m.\u001b[0m\u001b[32m                                                                       [100%]\u001b[0m\n",
            "\n",
            "\u001b[32m======================================== \u001b[32m\u001b[1m4 passed\u001b[0m\u001b[32m in 0.03s\u001b[0m\u001b[32m =========================================\u001b[0m\n"
          ]
        }
      ],
      "source": [
        "! pytest test_datastats.py"
      ]
    },
    {
      "cell_type": "markdown",
      "metadata": {
        "id": "vLnHczEmJDuA"
      },
      "source": [
        "#### 6 Aislamiento del algoritmo de aumento anual promedio\n",
        "\n",
        "Para el incremento promedio anual del salario tenemos una nueva prueba:"
      ]
    },
    {
      "cell_type": "code",
      "execution_count": 123,
      "metadata": {
        "id": "XvVdcLnAJby4"
      },
      "outputs": [],
      "source": [
        "#def test__incremento_anual_promedio():\n",
        "#  ds = DataStats()\n",
        "#  assert ds._incremento_anual_promedio(test_data, 20, 20000) == 837\n",
        "import math\n",
        "import json\n",
        "\n",
        "class DataStats:\n",
        "    def _incremento_anual_promedio(self, data, iedad, isalario):\n",
        "        incremento_edad_promedio = self._edad_promedio(data) - iedad\n",
        "        incremento_salario_promedio = self._salario_promedio(data) - isalario\n",
        "\n",
        "        return math.floor(incremento_salario_promedio / incremento_edad_promedio)\n",
        "\n",
        "    def _salario_promedio(self, data):\n",
        "        return math.floor(sum([int(e['salario'][1:]) for e in data]) / len(data))\n",
        "\n",
        "    def _edad_promedio(self, data):\n",
        "        return math.floor(sum([e['edad'] for e in data]) / len(data))\n",
        "\n",
        "    def _stats(self, data, iedad, isalario):\n",
        "        return {\n",
        "            'edad_promedio': self._edad_promedio(data),\n",
        "            'salario_promedio': self._salario_promedio(data),\n",
        "            'incremento_anual_promedio': self._incremento_anual_promedio(data, iedad, isalario),\n",
        "            'max_salario': self._max_salario(data),\n",
        "            'min_salario': self._min_salario(data)\n",
        "        }\n",
        "\n",
        "    def stats(self, data, iedad, isalario):\n",
        "        return json.dumps(self._stats(data, iedad, isalario))\n",
        "\n",
        "    def _max_salario(self, data):\n",
        "        salarios = [int(e['salario'][1:]) for e in data]\n",
        "        limite = max(salarios)\n",
        "        return [e for e in data if int(e['salario'][1:]) == limite]\n",
        "\n",
        "    def _min_salario(self, data):\n",
        "        salarios = [int(e['salario'][1:]) for e in data]\n",
        "        limite = min(salarios)\n",
        "        return [e for e in data if int(e['salario'][1:]) == limite]\n",
        "\n",
        "# Prueba para el cálculo del incremento anual promedio del salario\n",
        "def test__incremento_anual_promedio():\n",
        "    test_data = [\n",
        "        {\"id\": 1, \"nombre\": \"Irene\", \"apodo\": \"Lara\", \"edad\": 68, \"salario\": \"$27888\"},\n",
        "        {\"id\": 2, \"nombre\": \"Claudio\", \"apodo\": \"Avila\", \"edad\": 49, \"salario\": \"$67137\"},\n",
        "        {\"id\": 3, \"nombre\": \"Tomo\", \"apodo\": \"Frugs\", \"edad\": 70, \"salario\": \"$70472\"}\n",
        "    ]\n",
        "    ds = DataStats()\n",
        "    assert ds._incremento_anual_promedio(test_data, 20, 20000) == 837\n"
      ]
    },
    {
      "cell_type": "markdown",
      "metadata": {
        "id": "_F7sCrXdJnso"
      },
      "source": [
        "Un nuevo método que pasa la prueba:"
      ]
    },
    {
      "cell_type": "code",
      "execution_count": 124,
      "metadata": {
        "id": "1KWbktesJjtI"
      },
      "outputs": [],
      "source": [
        "#def _incremento_anual_promedio(self, data, iedad, isalario):\n",
        "#  incremento_anual_promedio = math.floor(\n",
        "#            sum([e['edad'] for e in data])/len(data)) - iedad\n",
        "#  incremento_salario_promedio = math.floor(\n",
        "#            sum([int(e['salario'][1:]) for e in data])/len(data)) - isalario\n",
        "\n",
        "#  return math.floor(incremento_salario_promedio/incremento_edad_promedio)\n",
        "\n",
        "def _incremento_anual_promedio(self, data, iedad, isalario):\n",
        "    incremento_edad_promedio = self._edad_promedio(data) - iedad\n",
        "    incremento_salario_promedio = self._salario_promedio(data) - isalario\n",
        "\n",
        "    return math.floor(incremento_salario_promedio / incremento_edad_promedio)\n"
      ]
    },
    {
      "cell_type": "markdown",
      "metadata": {
        "id": "9nW7r2P0KChB"
      },
      "source": [
        "Y una nueva versión del método `_stats()`:"
      ]
    },
    {
      "cell_type": "code",
      "execution_count": 125,
      "metadata": {
        "id": "zU8LmKApKFjw"
      },
      "outputs": [],
      "source": [
        "#def _stats(self, data, iedad, isalario):\n",
        "#  salarios = [int(e['salario'][1:]) for e in data]\n",
        "#  limite= '$' + str(max(salarios))\n",
        "#\n",
        "#  max_salario = [e for e in data if e['salario'] == limite]\n",
        "#\n",
        "#  salarios = [int(d['salario'][1:]) for d in data]\n",
        "#  min_salario = [e for e in data if e['salario'] ==\n",
        "#                      '${}'.format(str(min(salarios)))]\n",
        "#\n",
        "#  return {\n",
        "#        'edad_promedio': self._avg_age(data),\n",
        "#        'salario_promedio':  self._salario_promedio(data),\n",
        "#        'incremento_anual_promedio': self._incremento_anual_promedio (\n",
        "#                data, iedad, isalario),\n",
        "#        'max_salario': max_salario,\n",
        "#        'min_salario': min_salario\n",
        "#        }\n",
        "\n",
        "def _stats(self, data, iedad, isalario):\n",
        "    return {\n",
        "        'edad_promedio': self._edad_promedio(data),\n",
        "        'salario_promedio': self._salario_promedio(data),\n",
        "        'incremento_anual_promedio': self._incremento_anual_promedio(data, iedad, isalario),\n",
        "        'max_salario': self._max_salario(data),\n",
        "        'min_salario': self._min_salario(data)\n",
        "    }\n",
        "\n",
        "def _max_salario(self, data):\n",
        "    salarios = [int(e['salario'][1:]) for e in data]\n",
        "    max_salary = max(salarios)\n",
        "    return [e for e in data if int(e['salario'][1:]) == max_salary]\n",
        "\n",
        "def _min_salario(self, data):\n",
        "    salarios = [int(e['salario'][1:]) for e in data]\n",
        "    min_salary = min(salarios)\n",
        "    return [e for e in data if int(e['salario'][1:]) == min_salary]\n"
      ]
    },
    {
      "cell_type": "markdown",
      "metadata": {
        "id": "LRlCT6uiKgU0"
      },
      "source": [
        "Con todo esto tenemos:"
      ]
    },
    {
      "cell_type": "code",
      "execution_count": 126,
      "metadata": {
        "colab": {
          "base_uri": "https://localhost:8080/"
        },
        "id": "h_q67G8pK5hA",
        "outputId": "ba83409b-20f9-4e84-9020-6b251abb32b3"
      },
      "outputs": [
        {
          "output_type": "stream",
          "name": "stdout",
          "text": [
            "Overwriting datastats.py\n"
          ]
        }
      ],
      "source": [
        "%%writefile datastats.py\n",
        "import math\n",
        "import json\n",
        "\n",
        "class DataStats:\n",
        "\n",
        "  def _salario_promedio(self, data):\n",
        "    return math.floor(sum([int(e['salario'][1:]) for e in data])/len(data))\n",
        "\n",
        "  def _edad_promedio(self, data):\n",
        "    return math.floor(sum([e['edad'] for e in data])/len(data))\n",
        "\n",
        "  def _incremento_anual_promedio(self, data, iedad, isalario):\n",
        "\n",
        "    incremento_edad_promedio = math.floor(\n",
        "            sum([e['edad'] for e in data])/len(data)) - iedad\n",
        "    incremento_salario_promedio = math.floor(\n",
        "            sum([int(e['salario'][1:]) for e in data])/len(data)) - isalario\n",
        "\n",
        "    return math.floor(incremento_salario_promedio/incremento_edad_promedio)\n",
        "\n",
        "  def _stats(self, data, iedad, isalario):\n",
        "    salarios = [int(e['salario'][1:]) for e in data]\n",
        "    limite= '$' + str(max(salarios))\n",
        "\n",
        "    max_salario = [e for e in data if e['salario'] == limite]\n",
        "\n",
        "    salarios = [int(d['salario'][1:]) for d in data]\n",
        "    min_salario = [e for e in data if e['salario'] ==\n",
        "                      '${}'.format(str(min(salarios)))]\n",
        "\n",
        "    return {\n",
        "            'edad_promedio': self._edad_promedio(data),\n",
        "            'salario_promedio': self._salario_promedio(data),\n",
        "            'incremento_anual_promedio': self._incremento_anual_promedio(\n",
        "                data, iedad, isalario),\n",
        "            'max_salario': max_salario,\n",
        "            'min_salario': min_salario\n",
        "        }\n",
        "\n",
        "  def stats(self, data, iedad, isalario):\n",
        "    return json.dumps(\n",
        "      self._stats(data, iedad, isalario)\n",
        "  )"
      ]
    },
    {
      "cell_type": "code",
      "execution_count": 127,
      "metadata": {
        "colab": {
          "base_uri": "https://localhost:8080/"
        },
        "id": "S-Sp_wD7NkWF",
        "outputId": "ca89d9f0-0a1d-4b64-9609-242c1c2d5243"
      },
      "outputs": [
        {
          "output_type": "stream",
          "name": "stdout",
          "text": [
            "Overwriting test_datastats.py\n"
          ]
        }
      ],
      "source": [
        "%%writefile test_datastats.py\n",
        "\n",
        "import json\n",
        "\n",
        "from datastats import DataStats\n",
        "\n",
        "\n",
        "test_data = [\n",
        "        {\n",
        "          \"id\": 1,\n",
        "          \"nombre\": \"Irene\",\n",
        "          \"apodo\": \"Lara\",\n",
        "          \"edad\": 68,\n",
        "          \"salario\": \"$27888\"\n",
        "        },\n",
        "\n",
        "       {\n",
        "           \"id\": 2,\n",
        "          \"nombre\": \"Claudio\",\n",
        "          \"apodo\": \"Avila\",\n",
        "          \"edad\": 49,\n",
        "          \"salario\": \"$67137\"\n",
        "      },\n",
        "      {\n",
        "          \"id\": 3,\n",
        "          \"nombre\": \"Tomo\",\n",
        "          \"apodo\": \"Frugs\",\n",
        "          \"edad\": 70,\n",
        "          \"salario\": \"$70472\"\n",
        "      }\n",
        "    ]\n",
        "\n",
        "def test_json():\n",
        "\n",
        "  ds = DataStats()\n",
        "\n",
        "  assert ds.stats(test_data, 20, 20000) == json.dumps(\n",
        "        {\n",
        "            \"edad_promedio\": 62,\n",
        "            \"salario_promedio\": 55165,\n",
        "            \"incremento_anual_promedio\": 837,\n",
        "            \"max_salario\": [{\n",
        "                 \"id\": 3,\n",
        "                  \"nombre\": \"Tomo\",\n",
        "                  \"apodo\": \"Frugs\",\n",
        "                  \"edad\": 70,\n",
        "                  \"salario\": \"$70472\"\n",
        "           }],\n",
        "          \"min_salario\": [{\n",
        "              \"id\": 1,\n",
        "              \"nombre\": \"Irene\",\n",
        "              \"apodo\": \"Lara\",\n",
        "              \"edad\": 68,\n",
        "              \"salario\": \"$27888\"\n",
        "            }]\n",
        "       }\n",
        "    )\n",
        "\n",
        "\n",
        "def test__stats():\n",
        "\n",
        "   ds = DataStats()\n",
        "\n",
        "   assert ds._stats(test_data, 20, 20000) == {\n",
        "        \"edad_promedio\": 62,\n",
        "        \"salario_promedio\": 55165,\n",
        "        \"incremento_anual_promedio\": 837,\n",
        "        \"max_salario\": [{\n",
        "            \"id\": 3,\n",
        "            \"nombre\": \"Tomo\",\n",
        "            \"apodo\": \"Frugs\",\n",
        "             \"edad\": 70,\n",
        "              \"salario\": \"$70472\"\n",
        "    }],\n",
        "    \"min_salario\": [{\n",
        "        \"id\": 1,\n",
        "        \"nombre\": \"Irene\",\n",
        "        \"apodo\": \"Lara\",\n",
        "        \"edad\": 68,\n",
        "        \"salario\": \"$27888\"\n",
        "\n",
        "        }]\n",
        "    }\n",
        "\n",
        "def test__edad_promedio():\n",
        "  ds = DataStats()\n",
        "\n",
        "  assert ds._edad_promedio(test_data) == 62\n",
        "\n",
        "def test__salario_promedio():\n",
        "  ds = DataStats()\n",
        "  assert ds._salario_promedio(test_data) == 55165\n",
        "\n",
        "def test__incremento_anual_promedio():\n",
        "  ds = DataStats()\n",
        "\n",
        "  assert ds._incremento_anual_promedio(test_data, 20, 20000) == 837\n"
      ]
    },
    {
      "cell_type": "code",
      "execution_count": 128,
      "metadata": {
        "colab": {
          "base_uri": "https://localhost:8080/"
        },
        "id": "rp1qMEa0Oe2k",
        "outputId": "c5bdb8ff-1929-482b-f62a-b68423e1856d"
      },
      "outputs": [
        {
          "output_type": "stream",
          "name": "stdout",
          "text": [
            "\u001b[1m======================================= test session starts ========================================\u001b[0m\n",
            "platform linux -- Python 3.10.12, pytest-7.4.4, pluggy-1.4.0\n",
            "rootdir: /content\n",
            "plugins: cov-5.0.0, anyio-3.7.1\n",
            "\u001b[1mcollecting ... \u001b[0m\u001b[1m\rcollected 5 items                                                                                  \u001b[0m\n",
            "\n",
            "test_datastats.py \u001b[32m.\u001b[0m\u001b[32m.\u001b[0m\u001b[32m.\u001b[0m\u001b[32m.\u001b[0m\u001b[32m.\u001b[0m\u001b[32m                                                                      [100%]\u001b[0m\n",
            "\n",
            "\u001b[32m======================================== \u001b[32m\u001b[1m5 passed\u001b[0m\u001b[32m in 0.02s\u001b[0m\u001b[32m =========================================\u001b[0m\n"
          ]
        }
      ],
      "source": [
        "! pytest test_datastats.py"
      ]
    },
    {
      "cell_type": "markdown",
      "metadata": {
        "id": "AgkVijO_Oqct"
      },
      "source": [
        "### 7 - Aislamiento los algoritmos de salario máximo y mínimo\n",
        "\n",
        "\n",
        "Para este caso identificamos las nuevas pruebas:"
      ]
    },
    {
      "cell_type": "code",
      "execution_count": 129,
      "metadata": {
        "colab": {
          "base_uri": "https://localhost:8080/"
        },
        "id": "UC9TlvVOPgng",
        "outputId": "49ef4b77-c311-463d-d91b-4abb78c56315"
      },
      "outputs": [
        {
          "output_type": "stream",
          "name": "stdout",
          "text": [
            "Overwriting datastats.py\n"
          ]
        }
      ],
      "source": [
        "%%writefile datastats.py\n",
        "import math\n",
        "import json\n",
        "\n",
        "class DataStats:\n",
        "\n",
        "  def _salario_promedio(self, data):\n",
        "    return math.floor(sum([int(e['salario'][1:]) for e in data])/len(data))\n",
        "\n",
        "  def _edad_promedio(self, data):\n",
        "    return math.floor(sum([e['edad'] for e in data])/len(data))\n",
        "\n",
        "  def _incremento_anual_promedio(self, data, iedad, isalario):\n",
        "\n",
        "    incremento_edad_promedio = math.floor(\n",
        "            sum([e['edad'] for e in data])/len(data)) - iedad\n",
        "    incremento_salario_promedio = math.floor(\n",
        "            sum([int(e['salario'][1:]) for e in data])/len(data)) - isalario\n",
        "\n",
        "    return math.floor(incremento_salario_promedio/incremento_edad_promedio)\n",
        "\n",
        "  def _max_salario(self, data):\n",
        "    salarios = [int(e['salario'][1:]) for e in data]\n",
        "    limite = '$' + str(max(salarios))\n",
        "\n",
        "    return [e for e in data if e['salario'] == limite]\n",
        "\n",
        "  def _min_salario(self, data):\n",
        "    salarios = [int(d['salario'][1:]) for d in data]\n",
        "    return [e for e in data if e['salario'] ==\n",
        "                '${}'.format(str(min(salarios)))]\n",
        "\n",
        "\n",
        "  def _stats(self, data, iedad, isalario):\n",
        "    return {\n",
        "            'edad_promedio': self._edad_promedio(data),\n",
        "            'salario_promedio': self._salario_promedio(data),\n",
        "            'incremento_anual_promedio': self._incremento_anual_promedio(\n",
        "                data, iedad, isalario),\n",
        "            'max_salario': self._max_salario(data),\n",
        "            'min_salario': self._min_salario(data)\n",
        "        }\n",
        "\n",
        "  def stats(self, data, iedad, isalario):\n",
        "    return json.dumps(\n",
        "      self._stats(data, iedad, isalario)\n",
        "  )"
      ]
    },
    {
      "cell_type": "code",
      "execution_count": 130,
      "metadata": {
        "colab": {
          "base_uri": "https://localhost:8080/"
        },
        "id": "kafy66OhRm3w",
        "outputId": "cf4cbf67-b908-45bd-e684-3fbe424fa77c"
      },
      "outputs": [
        {
          "output_type": "stream",
          "name": "stdout",
          "text": [
            "Overwriting test_datastats.py\n"
          ]
        }
      ],
      "source": [
        "%%writefile test_datastats.py\n",
        "\n",
        "import json\n",
        "\n",
        "from datastats import DataStats\n",
        "\n",
        "test_data = [\n",
        "        {\n",
        "          \"id\": 1,\n",
        "          \"nombre\": \"Irene\",\n",
        "          \"apodo\": \"Lara\",\n",
        "          \"edad\": 68,\n",
        "          \"salario\": \"$27888\"\n",
        "        },\n",
        "\n",
        "       {\n",
        "           \"id\": 2,\n",
        "          \"nombre\": \"Claudio\",\n",
        "          \"apodo\": \"Avila\",\n",
        "          \"edad\": 49,\n",
        "          \"salario\": \"$67137\"\n",
        "      },\n",
        "      {\n",
        "          \"id\": 3,\n",
        "          \"nombre\": \"Tomo\",\n",
        "          \"apodo\": \"Frugs\",\n",
        "          \"edad\": 70,\n",
        "          \"salario\": \"$70472\"\n",
        "      }\n",
        "    ]\n",
        "\n",
        "def test_json():\n",
        "\n",
        "  ds = DataStats()\n",
        "\n",
        "  assert ds.stats(test_data, 20, 20000) == json.dumps(\n",
        "        {\n",
        "            \"edad_promedio\": 62,\n",
        "            \"salario_promedio\": 55165,\n",
        "            \"incremento_anual_promedio\": 837,\n",
        "            \"max_salario\": [{\n",
        "                 \"id\": 3,\n",
        "                  \"nombre\": \"Tomo\",\n",
        "                  \"apodo\": \"Frugs\",\n",
        "                  \"edad\": 70,\n",
        "                  \"salario\": \"$70472\"\n",
        "           }],\n",
        "          \"min_salario\": [{\n",
        "              \"id\": 1,\n",
        "              \"nombre\": \"Irene\",\n",
        "              \"apodo\": \"Lara\",\n",
        "              \"edad\": 68,\n",
        "              \"salario\": \"$27888\"\n",
        "            }]\n",
        "       }\n",
        "    )\n",
        "\n",
        "\n",
        "def test__stats():\n",
        "\n",
        "   ds = DataStats()\n",
        "\n",
        "   assert ds._stats(test_data, 20, 20000) == {\n",
        "        \"edad_promedio\": 62,\n",
        "        \"salario_promedio\": 55165,\n",
        "        \"incremento_anual_promedio\": 837,\n",
        "        \"max_salario\": [{\n",
        "            \"id\": 3,\n",
        "            \"nombre\": \"Tomo\",\n",
        "            \"apodo\": \"Frugs\",\n",
        "             \"edad\": 70,\n",
        "              \"salario\": \"$70472\"\n",
        "    }],\n",
        "    \"min_salario\": [{\n",
        "        \"id\": 1,\n",
        "        \"nombre\": \"Irene\",\n",
        "        \"apodo\": \"Lara\",\n",
        "        \"edad\": 68,\n",
        "        \"salario\": \"$27888\"\n",
        "\n",
        "        }]\n",
        "    }\n",
        "\n",
        "def test__edad_promedio():\n",
        "  ds = DataStats()\n",
        "  assert ds._edad_promedio(test_data) == 62\n",
        "\n",
        "def test__salario_promedio():\n",
        "  ds = DataStats()\n",
        "  assert ds._salario_promedio(test_data) == 55165\n",
        "\n",
        "def test__incremento_anual_promedio():\n",
        "  ds = DataStats()\n",
        "  assert ds._incremento_anual_promedio(test_data, 20, 20000) == 837\n",
        "\n",
        "\n",
        "def test__max_salario():\n",
        "  ds = DataStats()\n",
        "\n",
        "  assert ds._max_salario(test_data) == [{\n",
        "        \"id\": 3,\n",
        "          \"nombre\": \"Tomo\",\n",
        "          \"apodo\": \"Frugs\",\n",
        "          \"edad\": 70,\n",
        "          \"salario\": \"$70472\"\n",
        "    }]\n",
        "\n",
        "def test__min_salario():\n",
        "  ds = DataStats()\n",
        "  assert ds._min_salario(test_data) ==[{\n",
        "      \"id\": 1,\n",
        "      \"nombre\": \"Irene\",\n",
        "      \"apodo\": \"Lara\",\n",
        "      \"edad\": 68,\n",
        "      \"salario\": \"$27888\"\n",
        "       }]"
      ]
    },
    {
      "cell_type": "code",
      "execution_count": 131,
      "metadata": {
        "colab": {
          "base_uri": "https://localhost:8080/"
        },
        "id": "6ktekB85TswY",
        "outputId": "b0516c18-5841-4f4a-f385-a3c3e7689559"
      },
      "outputs": [
        {
          "output_type": "stream",
          "name": "stdout",
          "text": [
            "\u001b[1m======================================= test session starts ========================================\u001b[0m\n",
            "platform linux -- Python 3.10.12, pytest-7.4.4, pluggy-1.4.0 -- /usr/bin/python3\n",
            "cachedir: .pytest_cache\n",
            "rootdir: /content\n",
            "plugins: cov-5.0.0, anyio-3.7.1\n",
            "\u001b[1mcollecting ... \u001b[0m\u001b[1m\rcollected 7 items                                                                                  \u001b[0m\n",
            "\n",
            "test_datastats.py::test_json \u001b[32mPASSED\u001b[0m\u001b[32m                                                          [ 14%]\u001b[0m\n",
            "test_datastats.py::test__stats \u001b[32mPASSED\u001b[0m\u001b[32m                                                        [ 28%]\u001b[0m\n",
            "test_datastats.py::test__edad_promedio \u001b[32mPASSED\u001b[0m\u001b[32m                                                [ 42%]\u001b[0m\n",
            "test_datastats.py::test__salario_promedio \u001b[32mPASSED\u001b[0m\u001b[32m                                             [ 57%]\u001b[0m\n",
            "test_datastats.py::test__incremento_anual_promedio \u001b[32mPASSED\u001b[0m\u001b[32m                                    [ 71%]\u001b[0m\n",
            "test_datastats.py::test__max_salario \u001b[32mPASSED\u001b[0m\u001b[32m                                                  [ 85%]\u001b[0m\n",
            "test_datastats.py::test__min_salario \u001b[32mPASSED\u001b[0m\u001b[32m                                                  [100%]\u001b[0m\n",
            "\n",
            "\u001b[32m======================================== \u001b[32m\u001b[1m7 passed\u001b[0m\u001b[32m in 0.03s\u001b[0m\u001b[32m =========================================\u001b[0m\n"
          ]
        }
      ],
      "source": [
        "! pytest -v test_datastats.py"
      ]
    },
    {
      "cell_type": "code",
      "execution_count": 132,
      "metadata": {
        "colab": {
          "base_uri": "https://localhost:8080/"
        },
        "id": "jZw51vCuYlKI",
        "outputId": "d1e11d8f-8827-4a9f-c52a-ae6bbbc97fbd"
      },
      "outputs": [
        {
          "output_type": "stream",
          "name": "stdout",
          "text": [
            "Requirement already satisfied: coverage in /usr/local/lib/python3.10/dist-packages (7.4.4)\n",
            "Requirement already satisfied: pytest-cov in /usr/local/lib/python3.10/dist-packages (5.0.0)\n",
            "Requirement already satisfied: pytest>=4.6 in /usr/local/lib/python3.10/dist-packages (from pytest-cov) (7.4.4)\n",
            "Requirement already satisfied: coverage[toml]>=5.2.1 in /usr/local/lib/python3.10/dist-packages (from pytest-cov) (7.4.4)\n",
            "Requirement already satisfied: tomli in /usr/local/lib/python3.10/dist-packages (from coverage[toml]>=5.2.1->pytest-cov) (2.0.1)\n",
            "Requirement already satisfied: iniconfig in /usr/local/lib/python3.10/dist-packages (from pytest>=4.6->pytest-cov) (2.0.0)\n",
            "Requirement already satisfied: packaging in /usr/local/lib/python3.10/dist-packages (from pytest>=4.6->pytest-cov) (24.0)\n",
            "Requirement already satisfied: pluggy<2.0,>=0.12 in /usr/local/lib/python3.10/dist-packages (from pytest>=4.6->pytest-cov) (1.4.0)\n",
            "Requirement already satisfied: exceptiongroup>=1.0.0rc8 in /usr/local/lib/python3.10/dist-packages (from pytest>=4.6->pytest-cov) (1.2.0)\n"
          ]
        }
      ],
      "source": [
        "! pip install coverage\n",
        "! pip install pytest-cov"
      ]
    },
    {
      "cell_type": "code",
      "execution_count": 133,
      "metadata": {
        "colab": {
          "base_uri": "https://localhost:8080/"
        },
        "id": "jIFgMO3ZY2l2",
        "outputId": "6c73fc2b-55ea-4ece-eb75-68c77fa02d36"
      },
      "outputs": [
        {
          "output_type": "stream",
          "name": "stdout",
          "text": [
            "\u001b[1m======================================= test session starts ========================================\u001b[0m\n",
            "platform linux -- Python 3.10.12, pytest-7.4.4, pluggy-1.4.0\n",
            "rootdir: /content\n",
            "plugins: cov-5.0.0, anyio-3.7.1\n",
            "\u001b[1mcollecting ... \u001b[0m\u001b[1m\rcollected 0 items                                                                                  \u001b[0m\n",
            "\n",
            "\n",
            "---------- coverage: platform linux, python 3.10.12-final-0 ----------\n",
            "Name           Stmts   Miss  Cover\n",
            "----------------------------------\n",
            "datastats.py      22     12    45%\n",
            "----------------------------------\n",
            "TOTAL             22     12    45%\n",
            "\n",
            "\u001b[33m====================================== \u001b[33mno tests ran\u001b[0m\u001b[33m in 0.04s\u001b[0m\u001b[33m =======================================\u001b[0m\n"
          ]
        }
      ],
      "source": [
        "!pytest --cov=datastats datastats.py"
      ]
    },
    {
      "cell_type": "markdown",
      "metadata": {
        "id": "hgDIIhOFYfRu"
      },
      "source": [
        "#### 8 Reducción de la duplicación de código\n",
        "\n",
        "Del código anterior los dos métodos `_max_salario()` y `_min_salario()` comparten una gran cantidad de código, aunque el segundo es más conciso.\n"
      ]
    },
    {
      "cell_type": "code",
      "execution_count": 134,
      "metadata": {
        "id": "Yw2Wt5ApWzpu"
      },
      "outputs": [],
      "source": [
        "def _max_salario(self, data):\n",
        "  salarios = [int(e['salario'][1:]) for e in data]\n",
        "  limite = '$' + str(max(salarios))\n",
        "\n",
        "  return [e for e in data if e['salario'] == limite]\n",
        "\n",
        "def _min_salario(self, data):\n",
        "  salarios = [int(d['salario'][1:]) for d in data]\n",
        "  return [e for e in data if e['salario'] ==\n",
        "                '$'.format(str(min(salarios)))]"
      ]
    },
    {
      "cell_type": "markdown",
      "metadata": {
        "id": "BIyVkJTCbDXQ"
      },
      "source": [
        "Veamos el caso de la variable `limite` en la segunda función. Tan pronto como se cambie algo, ejecuta las pruebas para verificar que el comportamiento externo no haya cambiado."
      ]
    },
    {
      "cell_type": "code",
      "execution_count": 135,
      "metadata": {
        "id": "gUAs8TCKbNrr"
      },
      "outputs": [],
      "source": [
        "def _max_salario(self, data):\n",
        "  salarios = [int(e['salario'][1:]) for e in data]\n",
        "  limite = '$' + str(max(salarios))\n",
        "\n",
        "  return [e for e in data if e['salario'] == limite]\n",
        "\n",
        "def _min_salario(self, data):\n",
        "  salarios = [int(d['salario'][1:]) for d in data]\n",
        "  limite = '$'.format(str(min(salarios)))\n",
        "\n",
        "  return [e for e in data if e['salario'] == limite]"
      ]
    },
    {
      "cell_type": "markdown",
      "metadata": {
        "id": "5O6lmgezer9B"
      },
      "source": [
        "Ahora las dos funciones son las mismas pero para las funciones `min()` y `max()`. Todavía usan diferentes nombres de variables y diferentes códigos para formatear el limite, por lo que una primera acción es igualarlos, copiando el código de `_min_salario()` a `_max_salario()` y cambiando `min()` a `max()`-\n"
      ]
    },
    {
      "cell_type": "code",
      "execution_count": 136,
      "metadata": {
        "id": "SthsVqb1faT6"
      },
      "outputs": [],
      "source": [
        "def _max_salario(self, data):\n",
        "  salarios = [int(e['salario'][1:]) for d in data]\n",
        "  limite = '$'.format(str(max(salarios)))\n",
        "\n",
        "  return [e for e in data if e['salario'] == limite]\n",
        "\n",
        "def _min_salario(self, data):\n",
        "  salarios = [int(d['salario'][1:]) for d in data]\n",
        "  limite = '$'.format(str(min(salarios)))\n",
        "\n",
        "  return [e for e in data if e['salario'] == limite]"
      ]
    },
    {
      "cell_type": "markdown",
      "metadata": {
        "id": "TnmneZ_PgTRO"
      },
      "source": [
        "Creamos la función `_select_salario()` que duplique ese código y acepte una función en lugar de `min()` o `max()`."
      ]
    },
    {
      "cell_type": "code",
      "execution_count": 137,
      "metadata": {
        "id": "UZ-URnEagusm"
      },
      "outputs": [],
      "source": [
        "def _select_salario(self, data, func):\n",
        "  salarios = [int(d['salario'][1:]) for d in data]\n",
        "  limite = '${}'.format(str(func(salarios)))\n",
        "\n",
        "  return [e for e in data if e['salario'] == limite]\n",
        "\n",
        "def _max_salario(self, data):\n",
        "  return self._select_salario(data, max)\n",
        "\n",
        "def _min_salario(self, data):\n",
        "  return self._select_salario(data, min)"
      ]
    },
    {
      "cell_type": "markdown",
      "metadata": {
        "id": "29ncjBM_hQai"
      },
      "source": [
        "Hay una duplicación de código entre `_salario_promedio()` y `_select_salario()`.\n"
      ]
    },
    {
      "cell_type": "code",
      "execution_count": 138,
      "metadata": {
        "id": "zpdDlJxshVb7"
      },
      "outputs": [],
      "source": [
        "def _salario_promedio(self, data):\n",
        "  return math.floor(sum([int(e['salario'][1:]) for e in data])/len(data))"
      ]
    },
    {
      "cell_type": "code",
      "execution_count": 140,
      "metadata": {
        "id": "A_t0gw9AhZLk"
      },
      "outputs": [],
      "source": [
        "def _select_salario(self, data, func):\n",
        "  salarios = [int(d['salario'][1:]) for d in data]"
      ]
    },
    {
      "cell_type": "markdown",
      "metadata": {
        "id": "WcclOOihhwoh"
      },
      "source": [
        "Extraemos el algoritmo común en un método llamado `_salarios()`, para ello primero escribimos la prueba."
      ]
    },
    {
      "cell_type": "code",
      "execution_count": 141,
      "metadata": {
        "id": "QwZiuyKMh78Z"
      },
      "outputs": [],
      "source": [
        "def test_salarios():\n",
        "  ds = DataStats()\n",
        "  assert ds._salarios(test_data) == [27888, 67137, 70472]"
      ]
    },
    {
      "cell_type": "markdown",
      "metadata": {
        "id": "ud6-O69giMdx"
      },
      "source": [
        "Implementamos el método."
      ]
    },
    {
      "cell_type": "code",
      "execution_count": 142,
      "metadata": {
        "id": "0KDaK85biOyA"
      },
      "outputs": [],
      "source": [
        "def _salarios(self, data):\n",
        "  return [int(d['salario'][1:]) for d in data]"
      ]
    },
    {
      "cell_type": "markdown",
      "metadata": {
        "id": "-yBCenqniclh"
      },
      "source": [
        "Reemplazamos el código duplicado con una llamada al nuevo método."
      ]
    },
    {
      "cell_type": "code",
      "execution_count": 143,
      "metadata": {
        "id": "WVk9eFlDigap"
      },
      "outputs": [],
      "source": [
        "def _salarios(self, data):\n",
        "  return [int(d['salario'][1:]) for d in data]"
      ]
    },
    {
      "cell_type": "code",
      "execution_count": 144,
      "metadata": {
        "id": "YuqYDG-6ilPU"
      },
      "outputs": [],
      "source": [
        "def _select_salario(self, data, func):\n",
        "  limite= '${}'.format(str(func(self._salarios(data))))\n",
        "  return [e for e in data if e['salario'] == limite]"
      ]
    },
    {
      "cell_type": "markdown",
      "metadata": {
        "id": "KOgMn3_Zi-cB"
      },
      "source": [
        "Veamos el código de `_incremento_anual_promedio()`. ¿Cuál es el problema del código?"
      ]
    },
    {
      "cell_type": "code",
      "execution_count": 145,
      "metadata": {
        "id": "WfSVbBrhjdWg"
      },
      "outputs": [],
      "source": [
        "def _incremento_anual_promedio(self, data, iedad, isalario):\n",
        "  incremento_edad_promedio = math.floor(\n",
        "      sum([e['edad'] for e in data])/len(data)) - iedad\n",
        "\n",
        "  incremento_salario_promedio = math.floor(\n",
        "      sum(self._salarios(data))/len(data)) - isalario\n",
        "\n",
        "  return math.floor(incremento_salario_promedio/incremento_edad_promedio)"
      ]
    },
    {
      "cell_type": "markdown",
      "metadata": {
        "id": "qJ8cac0uj93B"
      },
      "source": [
        "El código de `_incremento_anual_promedio()` contiene el código de los métodos `_edad_promedio()` y `_salario_promedio()`, por lo que vale la pena reemplazarlo con dos llamadas."
      ]
    },
    {
      "cell_type": "code",
      "execution_count": 146,
      "metadata": {
        "id": "Y5Nfl4BDkqnX"
      },
      "outputs": [],
      "source": [
        "def _incremento_anual_promedio(self, data, iedad, isalario):\n",
        "  incremento_edad_promedio= self._edad_promedio(data) - iedad\n",
        "  incremento_salario_promedio = self._salario_promedio(data) - isalario\n",
        "\n",
        "  return math.floor(incremento_salario_promedio/incremento_edad_promedio)"
      ]
    },
    {
      "cell_type": "markdown",
      "metadata": {
        "id": "5DQXGliOlMQx"
      },
      "source": [
        "**Pregunta:** Edita los archivos necesarios para ejecutar la prueba. ¿Cuál es el código de cobertura para este ejemplo?."
      ]
    },
    {
      "cell_type": "code",
      "source": [
        "# datastats.py\n",
        "import math\n",
        "import json\n",
        "\n",
        "class DataStats:\n",
        "\n",
        "  def _salario_promedio(self, data):\n",
        "    return math.floor(sum(self._salarios(data))/len(data))\n",
        "\n",
        "  def _edad_promedio(self, data):\n",
        "    return math.floor(sum([e['edad'] for e in data])/len(data))\n",
        "\n",
        "  def _incremento_anual_promedio(self, data, iedad, isalario):\n",
        "    incremento_edad_promedio = self._edad_promedio(data) - iedad\n",
        "    incremento_salario_promedio = self._salario_promedio(data) - isalario\n",
        "    return math.floor(incremento_salario_promedio/incremento_edad_promedio)\n",
        "\n",
        "  def _max_salario(self, data):\n",
        "    return self._select_salario(data, max)\n",
        "\n",
        "  def _min_salario(self, data):\n",
        "    return self._select_salario(data, min)\n",
        "\n",
        "  def _stats(self, data, iedad, isalario):\n",
        "    return {\n",
        "        'edad_promedio': self._edad_promedio(data),\n",
        "        'salario_promedio': self._salario_promedio(data),\n",
        "        'incremento_anual_promedio': self._incremento_anual_promedio(data, iedad, isalario),\n",
        "        'max_salario': self._max_salario(data),\n",
        "        'min_salario': self._min_salario(data)\n",
        "    }\n",
        "\n",
        "  def stats(self, data, iedad, isalario):\n",
        "    return json.dumps(self._stats(data, iedad, isalario))\n",
        "\n",
        "  def _salarios(self, data):\n",
        "    return [int(d['salario'][1:]) for d in data]\n",
        "\n",
        "  def _select_salario(self, data, func):\n",
        "    limite = '${}'.format(str(func(self._salarios(data))))\n",
        "    return [e for e in data if e['salario'] == limite]\n",
        "\n",
        "# test_datastats.py\n",
        "import json\n",
        "from datastats import DataStats\n",
        "\n",
        "test_data = [\n",
        "    {\n",
        "        \"id\": 1,\n",
        "        \"nombre\": \"Irene\",\n",
        "        \"apodo\": \"Lara\",\n",
        "        \"edad\": 68,\n",
        "        \"salario\": \"$27888\"\n",
        "    },\n",
        "    {\n",
        "        \"id\": 2,\n",
        "        \"nombre\": \"Claudio\",\n",
        "        \"apodo\": \"Avila\",\n",
        "        \"edad\": 49,\n",
        "        \"salario\": \"$67137\"\n",
        "    },\n",
        "    {\n",
        "        \"id\": 3,\n",
        "        \"nombre\": \"Tomo\",\n",
        "        \"apodo\": \"Frugs\",\n",
        "        \"edad\": 70,\n",
        "        \"salario\": \"$70472\"\n",
        "    }\n",
        "]\n",
        "\n",
        "def test_json():\n",
        "    ds = DataStats()\n",
        "    assert ds.stats(test_data, 20, 20000) == json.dumps({\n",
        "        \"edad_promedio\": 62,\n",
        "        \"salario_promedio\": 55165,\n",
        "        \"incremento_anual_promedio\": 837,\n",
        "        \"max_salario\": [{\n",
        "            \"id\": 3,\n",
        "            \"nombre\": \"Tomo\",\n",
        "            \"apodo\": \"Frugs\",\n",
        "            \"edad\": 70,\n",
        "            \"salario\": \"$70472\"\n",
        "        }],\n",
        "        \"min_salario\": [{\n",
        "            \"id\": 1,\n",
        "            \"nombre\": \"Irene\",\n",
        "            \"apodo\": \"Lara\",\n",
        "            \"edad\": 68,\n",
        "            \"salario\": \"$27888\"\n",
        "        }]\n",
        "    })\n",
        "\n",
        "def test__stats():\n",
        "    ds = DataStats()\n",
        "    assert ds._stats(test_data, 20, 20000) == {\n",
        "        \"edad_promedio\": 62,\n",
        "        \"salario_promedio\": 55165,\n",
        "        \"incremento_anual_promedio\": 837,\n",
        "        \"max_salario\": [{\n",
        "            \"id\": 3,\n",
        "            \"nombre\": \"Tomo\",\n",
        "            \"apodo\": \"Frugs\",\n",
        "            \"edad\": 70,\n",
        "            \"salario\": \"$70472\"\n",
        "        }],\n",
        "        \"min_salario\": [{\n",
        "            \"id\": 1,\n",
        "            \"nombre\": \"Irene\",\n",
        "            \"apodo\": \"Lara\",\n",
        "            \"edad\": 68,\n",
        "            \"salario\": \"$27888\"\n",
        "        }]\n",
        "    }\n",
        "\n",
        "def test__edad_promedio():\n",
        "    ds = DataStats()\n",
        "    assert ds._edad_promedio(test_data) == 62\n",
        "\n",
        "def test__salario_promedio():\n",
        "    ds = DataStats()\n",
        "    assert ds._salario_promedio(test_data) == 55165\n",
        "\n",
        "def test__incremento_anual_promedio():\n",
        "    ds = DataStats()\n",
        "    assert ds._incremento_anual_promedio(test_data, 20, 20000) == 837\n",
        "\n",
        "def test__max_salario():\n",
        "    ds = DataStats()\n",
        "    assert ds._max_salario(test_data) == [{\n",
        "        \"id\": 3,\n",
        "        \"nombre\": \"Tomo\",\n",
        "        \"apodo\": \"Frugs\",\n",
        "        \"edad\": 70,\n",
        "        \"salario\": \"$70472\"\n",
        "    }]\n",
        "\n",
        "def test__min_salario():\n",
        "    ds = DataStats()\n",
        "    assert ds._min_salario(test_data) == [{\n",
        "        \"id\": 1,\n",
        "        \"nombre\": \"Irene\",\n",
        "        \"apodo\": \"Lara\",\n",
        "        \"edad\": 68,\n",
        "        \"salario\": \"$27888\"\n",
        "    }]\n",
        "\n",
        "def test__salarios():\n",
        "    ds = DataStats()\n",
        "    assert ds._salarios(test_data) == [27888, 67137, 70472]\n",
        "\n",
        "def test__select_salario():\n",
        "    ds = DataStats()\n",
        "    assert ds._select_salario(test_data, max) == [{\n",
        "        \"id\": 3,\n",
        "        \"nombre\": \"Tomo\",\n",
        "        \"apodo\": \"Frugs\",\n",
        "        \"edad\": 70,\n",
        "        \"salario\": \"$70472\"\n",
        "    }]\n",
        "\n",
        "# Este es el comando para ejecutar la prueba y obtener el código de cobertura\n",
        "# pytest --cov=datastats test_datastats.py\n"
      ],
      "metadata": {
        "id": "ij45rFk2ZNrK"
      },
      "execution_count": 147,
      "outputs": []
    },
    {
      "cell_type": "code",
      "source": [
        "!pytest --cov=datastats test_datastats.py"
      ],
      "metadata": {
        "colab": {
          "base_uri": "https://localhost:8080/"
        },
        "id": "ZRJV6-coZTKO",
        "outputId": "da0f0935-5012-4573-c54a-af574997572d"
      },
      "execution_count": 148,
      "outputs": [
        {
          "output_type": "stream",
          "name": "stdout",
          "text": [
            "\u001b[1m======================================= test session starts ========================================\u001b[0m\n",
            "platform linux -- Python 3.10.12, pytest-7.4.4, pluggy-1.4.0\n",
            "rootdir: /content\n",
            "plugins: cov-5.0.0, anyio-3.7.1\n",
            "\u001b[1mcollecting ... \u001b[0m\u001b[1m\rcollected 7 items                                                                                  \u001b[0m\n",
            "\n",
            "test_datastats.py \u001b[32m.\u001b[0m\u001b[32m.\u001b[0m\u001b[32m.\u001b[0m\u001b[32m.\u001b[0m\u001b[32m.\u001b[0m\u001b[32m.\u001b[0m\u001b[32m.\u001b[0m\u001b[32m                                                                    [100%]\u001b[0m\n",
            "\n",
            "---------- coverage: platform linux, python 3.10.12-final-0 ----------\n",
            "Name           Stmts   Miss  Cover\n",
            "----------------------------------\n",
            "datastats.py      22      0   100%\n",
            "----------------------------------\n",
            "TOTAL             22      0   100%\n",
            "\n",
            "\n",
            "\u001b[32m======================================== \u001b[32m\u001b[1m7 passed\u001b[0m\u001b[32m in 0.04s\u001b[0m\u001b[32m =========================================\u001b[0m\n"
          ]
        }
      ]
    },
    {
      "cell_type": "markdown",
      "metadata": {
        "id": "v_vVOsYzlmkk"
      },
      "source": [
        "#### 9 Refactorización avanzada\n",
        "\n",
        "El objetivo es cambiar la clase actual para que coincida con la nueva API y luego crear una clase que envuelva la primera y proporcione la API anterior. La estrategia no es tan diferente de lo que hicimos anteriormente, solo que esta vez trataremos con clases en lugar de métodos. Con un estupendo esfuerzo de mi imaginación nombré a la nueva clase `NDataStats`.\n",
        "\n",
        "Lo primero, como sucede muy a menudo con la refactorización es duplicar el código y cuando insertamos código nuevo necesitamos tener pruebas que lo justifiquen.\n",
        "\n",
        "Las pruebas serán las mismas que antes, ya que la nueva clase proporcionará las mismas funcionalidades que la anterior, así que solo crea un nuevo archivo, llamado `test_ndatastats.py` y allí se coloca la primera prueba `test_init()`."
      ]
    },
    {
      "cell_type": "code",
      "execution_count": 149,
      "metadata": {
        "colab": {
          "base_uri": "https://localhost:8080/"
        },
        "id": "BJo4lXPYnjW-",
        "outputId": "b40228da-3fc4-469f-d4e5-18b07b173c8e"
      },
      "outputs": [
        {
          "output_type": "stream",
          "name": "stdout",
          "text": [
            "Overwriting test_ndatastats.py\n"
          ]
        }
      ],
      "source": [
        "%%writefile test_ndatastats.py\n",
        "import json\n",
        "\n",
        "from datastats import NDataStats\n",
        "test_data = [\n",
        "    {\n",
        "          \"id\": 1,\n",
        "          \"nombre\": \"Irene\",\n",
        "          \"apodo\": \"Lara\",\n",
        "          \"edad\": 68,\n",
        "          \"salario\": \"$27888\"\n",
        "        },\n",
        "\n",
        "       {\n",
        "           \"id\": 2,\n",
        "          \"nombre\": \"Claudio\",\n",
        "          \"apodo\": \"Avila\",\n",
        "          \"edad\": 49,\n",
        "          \"salario\": \"$67137\"\n",
        "      },\n",
        "      {\n",
        "          \"id\": 3,\n",
        "          \"nombre\": \"Tomo\",\n",
        "          \"apodo\": \"Frugs\",\n",
        "          \"edad\": 70,\n",
        "          \"salario\": \"$70472\"\n",
        "      }\n",
        "\n",
        "]\n",
        "\n",
        "def test_init():\n",
        "  ds = NDataStats(test_data)\n",
        "  assert ds.data == test_data"
      ]
    },
    {
      "cell_type": "markdown",
      "metadata": {
        "id": "BfQQxBiMqssN"
      },
      "source": [
        "**Pregunta:** Escribe la nueva clase `NdataStats` en el archivo `datastats.py` y comprueba si la prueba anterior pasa."
      ]
    },
    {
      "cell_type": "code",
      "source": [
        "# Tu respuesta.\n",
        "import math\n",
        "import json\n",
        "\n",
        "class DataStats:\n",
        "\n",
        "  def _salario_promedio(self, data):\n",
        "    return math.floor(sum([int(e['salario'][1:]) for e in data])/len(data))\n",
        "\n",
        "  def _edad_promedio(self, data):\n",
        "    return math.floor(sum([e['edad'] for e in data])/len(data))\n",
        "\n",
        "  def _incremento_anual_promedio(self, data, iedad, isalario):\n",
        "\n",
        "    incremento_edad_promedio = math.floor(\n",
        "            sum([e['edad'] for e in data])/len(data)) - iedad\n",
        "    incremento_salario_promedio = math.floor(\n",
        "            sum([int(e['salario'][1:]) for e in data])/len(data)) - isalario\n",
        "\n",
        "    return math.floor(incremento_salario_promedio/incremento_edad_promedio)\n",
        "\n",
        "  def _max_salario(self, data):\n",
        "    salarios = [int(e['salario'][1:]) for e in data]\n",
        "    limite = '$' + str(max(salarios))\n",
        "\n",
        "    return [e for e in data if e['salario'] == limite]\n",
        "\n",
        "  def _min_salario(self, data):\n",
        "    salarios = [int(d['salario'][1:]) for d in data]\n",
        "    return [e for e in data if e['salario'] ==\n",
        "                '${}'.format(str(min(salarios)))]\n",
        "\n",
        "\n",
        "  def _stats(self, data, iedad, isalario):\n",
        "    return {\n",
        "            'edad_promedio': self._edad_promedio(data),\n",
        "            'salario_promedio': self._salario_promedio(data),\n",
        "            'incremento_anual_promedio': self._incremento_anual_promedio(\n",
        "                data, iedad, isalario),\n",
        "            'max_salario': self._max_salario(data),\n",
        "            'min_salario': self._min_salario(data)\n",
        "        }\n",
        "\n",
        "  def stats(self, data, iedad, isalario):\n",
        "    return json.dumps(\n",
        "      self._stats(data, iedad, isalario)\n",
        "  )\n",
        "\n",
        "class NDataStats:\n",
        "  def __init__(self, data):\n",
        "    self.data = data\n",
        "\n"
      ],
      "metadata": {
        "id": "YJf8z1fCatbn"
      },
      "execution_count": 150,
      "outputs": []
    },
    {
      "cell_type": "markdown",
      "metadata": {
        "id": "YNsqV5aDrrNg"
      },
      "source": [
        "Ahora iniciamos un proceso iterativo:\n",
        "\n",
        "- Copia una de las pruebas de `DataStats` y adapta  a `NDataStats`\n",
        "- Copia algo de código de `DataStats` a `NDataStats`, adaptándolo a la nueva API y haciendo pasar una prueba.\n",
        "\n",
        "En este punto, eliminar iterativamente métodos de `DataStats` y reemplazarlos con una llamada a `NDataStats` es una exageración.\n",
        "\n",
        "Un ejemplo de las pruebas resultantes para `NDataStats` es el siguiente:"
      ]
    },
    {
      "cell_type": "code",
      "execution_count": 151,
      "metadata": {
        "id": "z_lQ9SUupVgl"
      },
      "outputs": [],
      "source": [
        "#def test_edad():\n",
        "#  ds = NDataStats(test_data)\n",
        "#   assert ds._edades() == [68, 49, 70]\n",
        "\n",
        "\n"
      ]
    },
    {
      "cell_type": "markdown",
      "metadata": {
        "id": "YqPUMmJNsg1g"
      },
      "source": [
        "Y el código que pasa la prueba para este caso es:"
      ]
    },
    {
      "cell_type": "code",
      "execution_count": 152,
      "metadata": {
        "id": "2Xvmgoa0scs7"
      },
      "outputs": [],
      "source": [
        "#def _edades(self):\n",
        "#  return [d['edad'] for d in self.data]\n"
      ]
    },
    {
      "cell_type": "markdown",
      "metadata": {
        "id": "hFD-Qwe6tFec"
      },
      "source": [
        "Los métodos como `_edades()` ya no requieren un parámetro de entrada y se pueden convertir convertirlos en propiedades, cambiando las pruebas con `@property`."
      ]
    },
    {
      "cell_type": "markdown",
      "metadata": {
        "id": "6xJwRAQmuP_Q"
      },
      "source": [
        "Es hora de reemplazar los métodos de `DataStats` con llamadas a `NDataStats`. Podríamos hacerlo método por método, pero en realidad lo único que realmente necesitamos es reemplazar `stats()`. Así que el nuevo código es:"
      ]
    },
    {
      "cell_type": "code",
      "execution_count": 153,
      "metadata": {
        "id": "3n8RYUT4ttFq"
      },
      "outputs": [],
      "source": [
        "#class DataStats:\n",
        "#  def stats(self, data, iedad, isalario):\n",
        "#    nds = NDataStats(data)\n",
        "#    return nds.stats(iedad, isalario)"
      ]
    },
    {
      "cell_type": "markdown",
      "metadata": {
        "id": "kFOOF7v1MALi"
      },
      "source": [
        "**Pregunta:** Edita los archivos necesarios para ejecutar la prueba. ¿Cuál es el código de cobertura para este ejemplo ?."
      ]
    },
    {
      "cell_type": "code",
      "execution_count": 154,
      "metadata": {
        "id": "3c8audA-lX0w"
      },
      "outputs": [],
      "source": [
        "# Tu respuesta\n",
        "\n"
      ]
    },
    {
      "cell_type": "code",
      "source": [
        "# datastats.py\n",
        "\n",
        "import math\n",
        "import json\n",
        "\n",
        "class NDataStats:\n",
        "    def __init__(self, data):\n",
        "        self.data = data\n",
        "\n",
        "    def _salario_promedio(self):\n",
        "        return math.floor(sum([int(e['salario'][1:]) for e in self.data])/len(self.data))\n",
        "\n",
        "    def _edad_promedio(self):\n",
        "        return math.floor(sum([e['edad'] for e in self.data])/len(self.data))\n",
        "\n",
        "    def _incremento_anual_promedio(self, iedad, isalario):\n",
        "        incremento_edad_promedio = self._edad_promedio() - iedad\n",
        "        incremento_salario_promedio = self._salario_promedio() - isalario\n",
        "\n",
        "        return math.floor(incremento_salario_promedio/incremento_edad_promedio)\n",
        "\n",
        "    def _max_salario(self):\n",
        "        salarios = [int(e['salario'][1:]) for e in self.data]\n",
        "        limite = '$' + str(max(salarios))\n",
        "\n",
        "        return [e for e in self.data if e['salario'] == limite]\n",
        "\n",
        "    def _min_salario(self):\n",
        "        salarios = [int(d['salario'][1:]) for d in self.data]\n",
        "        return [e for e in self.data if e['salario'] == '${}'.format(str(min(salarios)))]\n",
        "\n",
        "    def _stats(self, iedad, isalario):\n",
        "        return {\n",
        "            'edad_promedio': self._edad_promedio(),\n",
        "            'salario_promedio': self._salario_promedio(),\n",
        "            'incremento_anual_promedio': self._incremento_anual_promedio(iedad, isalario),\n",
        "            'max_salario': self._max_salario(),\n",
        "            'min_salario': self._min_salario()\n",
        "        }\n",
        "\n",
        "    def stats(self, iedad, isalario):\n",
        "        return json.dumps(self._stats(iedad, isalario))\n",
        "\n",
        "\n",
        "# datastats.py - adaptación para usar NDataStats\n",
        "\n",
        "class DataStats:\n",
        "    def stats(self, data, iedad, isalario):\n",
        "        nds = NDataStats(data)\n",
        "        return nds.stats(iedad, isalario)"
      ],
      "metadata": {
        "id": "XBmelUmQliE8"
      },
      "execution_count": 155,
      "outputs": []
    },
    {
      "cell_type": "code",
      "source": [
        "!pytest --cov=datastats test_datastats.py"
      ],
      "metadata": {
        "colab": {
          "base_uri": "https://localhost:8080/"
        },
        "id": "9i8v0qrElyFQ",
        "outputId": "d805f80d-bfbb-40c6-c0ab-d0cf4303b749"
      },
      "execution_count": 156,
      "outputs": [
        {
          "output_type": "stream",
          "name": "stdout",
          "text": [
            "\u001b[1m======================================= test session starts ========================================\u001b[0m\n",
            "platform linux -- Python 3.10.12, pytest-7.4.4, pluggy-1.4.0\n",
            "rootdir: /content\n",
            "plugins: cov-5.0.0, anyio-3.7.1\n",
            "\u001b[1mcollecting ... \u001b[0m\u001b[1m\rcollected 7 items                                                                                  \u001b[0m\n",
            "\n",
            "test_datastats.py \u001b[32m.\u001b[0m\u001b[32m.\u001b[0m\u001b[32m.\u001b[0m\u001b[32m.\u001b[0m\u001b[32m.\u001b[0m\u001b[32m.\u001b[0m\u001b[32m.\u001b[0m\u001b[32m                                                                    [100%]\u001b[0m\n",
            "\n",
            "---------- coverage: platform linux, python 3.10.12-final-0 ----------\n",
            "Name           Stmts   Miss  Cover\n",
            "----------------------------------\n",
            "datastats.py      22      0   100%\n",
            "----------------------------------\n",
            "TOTAL             22      0   100%\n",
            "\n",
            "\n",
            "\u001b[32m======================================== \u001b[32m\u001b[1m7 passed\u001b[0m\u001b[32m in 0.04s\u001b[0m\u001b[32m =========================================\u001b[0m\n"
          ]
        }
      ]
    },
    {
      "cell_type": "markdown",
      "metadata": {
        "id": "kQFD-QzmvPX1"
      },
      "source": [
        "**Pregunta:** La refactorización es un proceso iterativo, a menudo sucederá que crees que hiciste todo lo posible, solo para descubrir más tarde que te perdiste algo. En este caso, el paso faltante es una pequeña duplicación de código.\n",
        "\n",
        "Las dos funciones comparten la misma lógica, por lo que definitivamente podemos aislar esto  y llamar al código común en cada función."
      ]
    },
    {
      "cell_type": "code",
      "execution_count": 157,
      "metadata": {
        "id": "7GTchJEpw1dt"
      },
      "outputs": [],
      "source": [
        "#def _salario_promedio(self):\n",
        "#  return math.floor(sum(self._salarios)/len(self.data))\n",
        "\n",
        "#def _edad_promedio(self):\n",
        "#  return math.floor(sum(self._edades)/len(self.data))"
      ]
    },
    {
      "cell_type": "code",
      "execution_count": 158,
      "metadata": {
        "id": "6oLDObFXxBf8"
      },
      "outputs": [],
      "source": [
        "#def _promedio_floor(self, suma_de_numberos):\n",
        "#  return math.floor(suma_de_numeros / len(self.data))\n",
        "\n",
        "#def _salario_promedio(self):\n",
        "#  return self._promedio_floor(sum(self._salarios))\n",
        "\n",
        "#def _edad_promedio(self):\n",
        "#  return self._promedio_floor(sum(self._edades))"
      ]
    },
    {
      "cell_type": "markdown",
      "metadata": {
        "id": "CVjZOwOqxKR0"
      },
      "source": [
        "Edita los archivos necesarios para ejecutar la prueba. ¿Cuál es el código de cobertura para este ejemplo.?"
      ]
    },
    {
      "cell_type": "code",
      "execution_count": 159,
      "metadata": {
        "id": "KvXDQnF3MALk"
      },
      "outputs": [],
      "source": [
        "## Tu respuesta.\n",
        "class NDataStats:\n",
        "    def __init__(self, data):\n",
        "        self.data = data\n",
        "        self._salarios = [int(d['salario'][1:]) for d in data]\n",
        "        self._edades = [d['edad'] for d in data]\n",
        "\n",
        "    @property\n",
        "    def _salario_promedio(self):\n",
        "        return self._promedio_floor(sum(self._salarios))\n",
        "\n",
        "    @property\n",
        "    def _edad_promedio(self):\n",
        "        return self._promedio_floor(sum(self._edades))\n",
        "\n",
        "    def _promedio_floor(self, suma_de_numeros):\n",
        "        return math.floor(suma_de_numeros / len(self.data))\n",
        "\n",
        "    def _select_salario(self, func):\n",
        "        salarios = [int(d['salario'][1:]) for d in self.data]\n",
        "        limite = '${}'.format(str(func(salarios)))\n",
        "        return [e for e in self.data if e['salario'] == limite]\n",
        "\n",
        "    def _max_salario(self):\n",
        "        return self._select_salario(max)\n",
        "\n",
        "    def _min_salario(self):\n",
        "        return self._select_salario(min)\n",
        "\n",
        "    def stats(self, iedad, isalario):\n",
        "        return {\n",
        "            'edad_promedio': self._edad_promedio,\n",
        "            'salario_promedio': self._salario_promedio,\n",
        "            'incremento_anual_promedio': self._incremento_anual_promedio(iedad, isalario),\n",
        "            'max_salario': self._max_salario(),\n",
        "            'min_salario': self._min_salario()\n",
        "        }\n"
      ]
    },
    {
      "cell_type": "code",
      "source": [
        "!pytest --cov=datastats test_datastats.py\n"
      ],
      "metadata": {
        "colab": {
          "base_uri": "https://localhost:8080/"
        },
        "id": "3fHhmn5ap7s0",
        "outputId": "e6acea94-bfd7-4e10-8488-323579072eac"
      },
      "execution_count": 160,
      "outputs": [
        {
          "output_type": "stream",
          "name": "stdout",
          "text": [
            "\u001b[1m======================================= test session starts ========================================\u001b[0m\n",
            "platform linux -- Python 3.10.12, pytest-7.4.4, pluggy-1.4.0\n",
            "rootdir: /content\n",
            "plugins: cov-5.0.0, anyio-3.7.1\n",
            "\u001b[1mcollecting ... \u001b[0m\u001b[1m\rcollected 7 items                                                                                  \u001b[0m\n",
            "\n",
            "test_datastats.py \u001b[32m.\u001b[0m\u001b[32m.\u001b[0m\u001b[32m.\u001b[0m\u001b[32m.\u001b[0m\u001b[32m.\u001b[0m\u001b[32m.\u001b[0m\u001b[32m.\u001b[0m\u001b[32m                                                                    [100%]\u001b[0m\n",
            "\n",
            "---------- coverage: platform linux, python 3.10.12-final-0 ----------\n",
            "Name           Stmts   Miss  Cover\n",
            "----------------------------------\n",
            "datastats.py      22      0   100%\n",
            "----------------------------------\n",
            "TOTAL             22      0   100%\n",
            "\n",
            "\n",
            "\u001b[32m======================================== \u001b[32m\u001b[1m7 passed\u001b[0m\u001b[32m in 0.04s\u001b[0m\u001b[32m =========================================\u001b[0m\n"
          ]
        }
      ]
    },
    {
      "cell_type": "markdown",
      "metadata": {
        "id": "tjAQdfPAxQGs"
      },
      "source": [
        "**Referencias**\n",
        "\n",
        "- [Why do developers hate code coverage? And why they should not hate it!](https://www.effective-software-testing.com/why-do-developers-hate-code-coverage)\n",
        "- [Do unit tests make refactoring harder?](https://www.effective-software-testing.com/do-unit-tests-make-refactoring-harder)."
      ]
    },
    {
      "cell_type": "code",
      "execution_count": null,
      "metadata": {
        "id": "C70mdSPryNDn"
      },
      "outputs": [],
      "source": []
    }
  ],
  "metadata": {
    "colab": {
      "provenance": []
    },
    "kernelspec": {
      "display_name": "Python 3 (ipykernel)",
      "language": "python",
      "name": "python3"
    },
    "language_info": {
      "codemirror_mode": {
        "name": "ipython",
        "version": 3
      },
      "file_extension": ".py",
      "mimetype": "text/x-python",
      "name": "python",
      "nbconvert_exporter": "python",
      "pygments_lexer": "ipython3",
      "version": "3.7.10"
    }
  },
  "nbformat": 4,
  "nbformat_minor": 0
}